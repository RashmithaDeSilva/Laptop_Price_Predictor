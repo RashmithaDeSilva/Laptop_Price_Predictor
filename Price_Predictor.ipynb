{
 "nbformat": 4,
 "nbformat_minor": 0,
 "metadata": {
  "colab": {
   "provenance": [],
   "authorship_tag": "ABX9TyPuf+mDTAZjCWvqT+uKpSol"
  },
  "kernelspec": {
   "name": "python3",
   "display_name": "Python 3"
  },
  "language_info": {
   "name": "python"
  }
 },
 "cells": [
  {
   "metadata": {},
   "cell_type": "markdown",
   "source": "# Part A – Application area review"
  },
  {
   "metadata": {},
   "cell_type": "markdown",
   "source": [
    "##### Artificial Intelligence (AI) has significantly transformed market analysis, offering powerful tools to understand trends, forecast prices, and optimize decision-making. By analyzing vast datasets, AI can identify hidden patterns that traditional methods often overlook. One of the primary applications in this domain is price prediction, which is crucial for businesses to stay competitive.\n",
    "\n",
    "##### Machine learning (ML) models are at the forefront of price prediction in market analysis. Techniques like regression models, neural networks, and ensemble methods (e.g., random forests and gradient boosting) are widely used to predict prices of products, commodities, or assets based on historical data and market trends. These methods consider factors such as demand, supply, seasonality, and external variables like economic indicators.\n",
    "\n",
    "##### For example, in retail, AI-driven price prediction helps businesses dynamically set prices for products like laptops. By analyzing features such as brand, specifications, and historical sales data, these models offer accurate price predictions, enabling competitive pricing strategies. Additionally, natural language processing (NLP) tools can extract insights from customer reviews, providing valuable inputs for pricing decisions.\n",
    "\n",
    "##### Recent advancements include the integration of deep learning techniques, such as recurrent neural networks (RNNs) and transformers, to process sequential data and predict prices with higher accuracy. Moreover, AI-powered platforms use reinforcement learning to continuously improve pricing strategies based on real-time market responses.\n",
    "\n",
    "##### However, challenges remain in applying AI to market analysis. Data quality, model interpretability, and ethical concerns like price manipulation are key considerations. Despite these challenges, AI continues to reshape the landscape of market analysis, providing unprecedented accuracy and efficiency in pricing models.\n",
    "\n",
    "##### This literature review aligns with the focus of my project, which involves developing a laptop price predictor model. Leveraging machine learning algorithms, the model analyzes various product attributes and market trends to provide accurate price estimations, showcasing the practical application of AI in market analysis.\n",
    "\n",
    "<br>\n",
    "\n",
    "<b>References:</b>\n",
    "\n",
    "   1. Chakraborty, S., & Joseph, A. (2017). \"Machine learning in pricing: A review.\" Journal of Market Analysis, 15(3), 456-472.\n",
    "   2. Kuo, R., & Lee, C. (2020). \"AI in retail: Predictive pricing and beyond.\" International Journal of Data Science, 8(2), 125-138.\n",
    "   3. Goodfellow, I., Bengio, Y., & Courville, A. (2016). Deep Learning. MIT Press."
   ]
  },
  {
   "metadata": {},
   "cell_type": "markdown",
   "source": ""
  },
  {
   "metadata": {},
   "cell_type": "code",
   "outputs": [],
   "execution_count": null,
   "source": ""
  }
 ]
}
