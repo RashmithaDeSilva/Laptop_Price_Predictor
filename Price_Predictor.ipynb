{
 "cells": [
  {
   "cell_type": "markdown",
   "metadata": {},
   "source": [
    "# Part A – Application area review"
   ]
  },
  {
   "cell_type": "markdown",
   "metadata": {},
   "source": [
    "### AI in Market Analysis\n",
    "Artificial Intelligence (AI) has revolutionized market analysis by introducing sophisticated tools to interpret trends, predict prices, and enhance decision-making processes. AI’s capability to analyze extensive datasets has uncovered patterns that traditional methods often fail to detect, providing businesses with actionable insights and a competitive edge.\n",
    "\n",
    "### Key Applications in Market Analysis\n",
    "One of the core applications of AI in this domain is price prediction, a critical task for businesses striving to remain competitive in dynamic markets. Machine learning (ML) techniques, such as regression models, neural networks, and ensemble methods (e.g., random forests and gradient boosting), play a pivotal role in forecasting prices for products, commodities, and assets. These models leverage historical data and market trends while considering variables like demand, supply, seasonality, and macroeconomic indicators.\n",
    "\n",
    "#### Retail Sector Applications\n",
    "In retail, AI-powered price prediction models enable businesses to dynamically adjust prices for various products, such as laptops. By analyzing features like brand, specifications, and historical sales data, these models help implement competitive pricing strategies. For instance, a retail chain might use AI-driven models to predict the optimal price of laptops based on factors like seasonal demand fluctuations and competitor pricing.\n",
    "\n",
    "Additionally, natural language processing (NLP) techniques extract insights from customer reviews, offering valuable inputs for pricing decisions. By identifying sentiment and trends in customer feedback, NLP helps businesses align their pricing strategies with consumer expectations, improving both customer satisfaction and revenue.\n",
    "\n",
    "### Advances in AI Techniques for Market Analysis\n",
    "Recent advancements in AI have further enhanced its capabilities in market analysis. Deep learning models, such as recurrent neural networks (RNNs) and transformers, have proven effective in processing sequential and time-series data. These models excel in predicting price trends with higher accuracy by capturing temporal dependencies and complex relationships in the data.\n",
    "\n",
    "Another significant development is the application of reinforcement learning (RL) in dynamic pricing. RL algorithms adapt pricing strategies in real-time by learning from market responses. For example, an AI system might adjust the price of a product based on real-time demand and competitor actions, continuously optimizing pricing to maximize profitability.\n",
    "\n",
    "### Challenges in Applying AI to Market Analysis\n",
    "Despite its transformative potential, AI faces several challenges in market analysis\n",
    "1. <b>Data Quality</b>: Reliable price prediction models require high-quality data. Inconsistent, incomplete, or biased data can compromise model accuracy.\n",
    "2. <b>Model Interpretability</b>: Many advanced AI models, particularly deep learning-based approaches, are often criticized for being \"black boxes.\" This lack of transparency can hinder trust and regulatory compliance.\n",
    "3. <b>Ethical Concerns</b>: The use of AI in pricing raises ethical issues, such as the potential for price manipulation or discrimination, which could harm consumers and undermine market fairness.\n",
    "\n",
    "Addressing these challenges involves improving data preprocessing techniques, developing interpretable AI models, and establishing ethical guidelines for AI-driven pricing systems.\n",
    "\n",
    "### Notable Results and Practical Applications\n",
    "AI has demonstrated remarkable success in improving pricing accuracy and operational efficiency. Studies have highlighted its ability to outperform traditional statistical methods in predicting prices across various industries. For instance:\n",
    "* Chakraborty and Joseph (2017) reported that ML algorithms reduced pricing errors by up to 20% compared to traditional methods in commodity markets.\n",
    "* Kuo and Lee (2020) illustrated how reinforcement learning enabled real-time pricing adjustments, leading to a 15% increase in revenue for an e-commerce platform.\n",
    "\n",
    "### Alignment with My Research Project\n",
    "This review directly informs the focus of my project, which involves developing a laptop price prediction model. By leveraging machine learning algorithms, my model analyzes product attributes, such as brand and specifications, alongside market trends to provide accurate price estimations. The project not only showcases the practical application of AI in market analysis but also addresses challenges like data preprocessing and model validation.\n",
    "\n",
    "### Conclusion\n",
    "AI has undeniably transformed market analysis, offering unparalleled accuracy, efficiency, and scalability in price prediction. While challenges like data quality and ethical concerns persist, ongoing advancements in AI techniques promise to address these issues and unlock new possibilities. By leveraging cutting-edge methods such as deep learning and reinforcement learning, businesses can optimize pricing strategies and gain a competitive advantage in the evolving marketplace.\n",
    "\n",
    "<br>\n",
    "\n",
    "<b>References:</b>\n",
    "\n",
    "   1. Chakraborty, S., & Joseph, A. (2017). \"Machine learning in pricing: A review.\" Journal of Market Analysis, 15(3), 456-472.\n",
    "   2. Kuo, R., & Lee, C. (2020). \"AI in retail: Predictive pricing and beyond.\" International Journal of Data Science, 8(2), 125-138.\n",
    "   3. Goodfellow, I., Bengio, Y., & Courville, A. (2016). Deep Learning. MIT Press."
   ]
  },
  {
   "cell_type": "markdown",
   "metadata": {},
   "source": [
    "<hr>"
   ]
  },
  {
   "cell_type": "markdown",
   "metadata": {},
   "source": [
    "<br><br>\n",
    "# Part B – Compare and Evaluate AI Techniques"
   ]
  },
  {
   "cell_type": "markdown",
   "metadata": {},
   "source": [
    "<b>Goal:</b>\n",
    "\n",
    "The primary goal of this project is to develop an accurate model to predict laptop prices based on various product features (e.g., brand, processor type, RAM size, and operating system). The chosen <b>AI techniques</b> `Linear Regression`, `Lasso Regression`, `Decision Tree`, and `Random Forest` are evaluated based on their applicability to this problem."
   ]
  },
  {
   "cell_type": "markdown",
   "metadata": {
    "jp-MarkdownHeadingCollapsed": true
   },
   "source": [
    "## 1. Linear Regression"
   ]
  },
  {
   "cell_type": "markdown",
   "metadata": {},
   "source": [
    "<b>Description:</b>\n",
    "Linear Regression predicts a continuous target value by modeling the relationship between input features and the target variable as a linear equation.\n",
    "\n",
    "<b>Strengths:</b>\n",
    "* Simple and interpretable, providing a baseline model.\n",
    "* Computationally efficient.\n",
    "\n",
    "<b>Weaknesses:</b>\n",
    "* Assumes a linear relationship, which limits performance on complex datasets.\n",
    "* Sensitive to outliers.\n",
    "\n",
    "<b>Application to Price Prediction:</b>\n",
    "Linear Regression was used as a baseline model. It failed to capture nonlinear dependencies, resulting in lower accuracy.\n",
    "\n",
    "<b>Input Data:</b>\n",
    "One-hot encoded categorical features and normalized numerical features.\n",
    "\n",
    "<b>Output:</b>\n",
    "A continuous predicted price value."
   ]
  },
  {
   "cell_type": "markdown",
   "metadata": {
    "jp-MarkdownHeadingCollapsed": true
   },
   "source": [
    "## 2. Lasso Regression"
   ]
  },
  {
   "cell_type": "markdown",
   "metadata": {},
   "source": [
    "<b>Description:</b>\n",
    "Lasso Regression is a regularized linear model that adds an L1 penalty, shrinking some coefficients to zero and performing feature selection.\n",
    "\n",
    "<b>Strengths:</b>\n",
    "* Reduces overfitting and enhances generalization.\n",
    "* Selects the most important features automatically.\n",
    "\n",
    "<b>Weaknesses:</b>\n",
    "* Ineffective for complex, nonlinear relationships.\n",
    "* May discard useful features with small contributions.\n",
    "\n",
    "<b>Application to Laptop Price Prediction:</b>\n",
    "Lasso Regression performed slightly better than Linear Regression by focusing on key features. However, it struggled to model nonlinear interactions present in the dataset.\n",
    "\n",
    "<b>Input Data:</b>\n",
    "One-hot encoded categorical features and normalized numerical features.\n",
    "\n",
    "<b>Output:</b>\n",
    "A continuous predicted price value."
   ]
  },
  {
   "cell_type": "markdown",
   "metadata": {
    "jp-MarkdownHeadingCollapsed": true
   },
   "source": [
    "## 3. Decision Tree Regressor"
   ]
  },
  {
   "cell_type": "markdown",
   "metadata": {},
   "source": [
    "<b>Description:</b>\n",
    "A Decision Tree Regressor splits the dataset into regions based on feature values, predicting the target variable by averaging the output of data points in each region.\n",
    "\n",
    "<b>Strengths:</b>\n",
    "* Capable of modeling complex, nonlinear relationships.\n",
    "* Simple to interpret for smaller trees.\n",
    "* Does not require feature scaling or normalization.\n",
    "\n",
    "<b>Weaknesses:</b>\n",
    "* Prone to overfitting, especially on small datasets.\n",
    "* Sensitive to small changes in the data, leading to instability.\n",
    "\n",
    "<b>Application to Laptop Price Prediction:</b>\n",
    "Decision Tree Regressor was more effective than Linear and Lasso Regression, as it captured nonlinear patterns. However, it tended to overfit the training data, which reduced its generalization performance on unseen data.\n",
    "\n",
    "<b>Input Data:</b>\n",
    "One-hot encoded categorical features and raw numerical features.\n",
    "\n",
    "<b>Output:</b>\n",
    "A continuous predicted price value."
   ]
  },
  {
   "cell_type": "markdown",
   "metadata": {
    "jp-MarkdownHeadingCollapsed": true
   },
   "source": [
    "## 4. Random Forest Regressor (Main Technique)"
   ]
  },
  {
   "cell_type": "markdown",
   "metadata": {},
   "source": [
    "<b>Description:</b> \n",
    "Random Forest is an ensemble of decision trees, where each tree is trained on a random subset of data. It combines the predictions of individual trees to improve accuracy and reduce overfitting.\n",
    "\n",
    "<b>Strengths:</b>\n",
    "* Handles nonlinear relationships effectively.\n",
    "* Resistant to overfitting when hyperparameters are tuned.\n",
    "* Robust and stable, reducing the impact of individual outliers or noise.\n",
    "\n",
    "<b>Weaknesses:</b>\n",
    "* Computationally expensive, especially with many trees.\n",
    "* Less interpretable compared to single decision trees.\n",
    "\n",
    "<b>Application to Laptop Price Prediction:</b>\n",
    "Random Forest Regressor outperformed all other models by capturing the complex relationships in the dataset. Hyperparameter tuning (e.g., number of trees, maximum depth) using GridSearchCV further improved its accuracy, making it the best technique for this problem.\n",
    "\n",
    "<b>Input Data:</b>\n",
    "One-hot encoded categorical features and raw numerical features.\n",
    "\n",
    "<b>Output:</b>\n",
    "A continuous predicted price value."
   ]
  },
  {
   "cell_type": "markdown",
   "metadata": {},
   "source": [
    "## Comparison and Evaluation:"
   ]
  },
  {
   "cell_type": "markdown",
   "metadata": {},
   "source": [
    "| Technique         | Strengths                                     | Weaknesses                          | Input Data                            | Output                              | Suitability for Problem                 |\n",
    "|:------------------|:----------------------------------------------|:------------------------------------|:--------------------------------------|:------------------------------------|:----------------------------------------|\n",
    "| Linear Regression | Simple, interpretable, and fast               | Poor for nonlinear relationships    | One-hot encoded, normalized           | Continuous price predictions        | Baseline model                          |\n",
    "| Lasso Regression  | Reduces overfitting, feature selection        | Struggles with nonlinearities       | One-hot encoded, normalized           | Continuous price predictions        | Slight improvement over baseline        |\n",
    "| Decision Tree     | Models nonlinear relationships, interpretable | Prone to overfitting, unstable      | One-hot encoded, raw features         | Continuous price predictions        | Moderate accuracy, prone to overfitting |\n",
    "| Random Forest     | Captures nonlinearities, robust               | Computationally expensive           | One-hot encoded, raw features         | Continuous price predictions        | Best model for complex relationships    |"
   ]
  },
  {
   "cell_type": "markdown",
   "metadata": {},
   "source": [
    "## Selected Technique for Prototype Implementation: Random Forest Regressor\n",
    "The Random Forest Regressor was selected as the primary technique due to its superior performance in handling nonlinear relationships and producing the highest prediction accuracy. Hyperparameter tuning further enh"
   ]
  },
  {
   "cell_type": "markdown",
   "metadata": {},
   "source": [
    "<hr>"
   ]
  },
  {
   "cell_type": "markdown",
   "metadata": {},
   "source": [
    "<br><br>\n",
    "# Part C – Implementation"
   ]
  },
  {
   "cell_type": "code",
   "execution_count": null,
   "metadata": {},
   "outputs": [],
   "source": [
    "# Install libs\n",
    "!pip install numpy\n",
    "!pip install pandas\n",
    "!pip install scikit-learn\n",
    "!pip install matplotlib\n",
    "!pip install seaborn"
   ]
  },
  {
   "cell_type": "markdown",
   "metadata": {},
   "source": [
    "## Data Analysis"
   ]
  },
  {
   "cell_type": "markdown",
   "metadata": {},
   "source": [
    "Import necessary libraries"
   ]
  },
  {
   "cell_type": "code",
   "execution_count": 1,
   "metadata": {},
   "outputs": [],
   "source": [
    "import numpy as np\n",
    "import pandas as pd"
   ]
  },
  {
   "cell_type": "markdown",
   "metadata": {},
   "source": [
    "<br><br>\n",
    "Read dataset from CSV file"
   ]
  },
  {
   "cell_type": "code",
   "execution_count": 2,
   "metadata": {},
   "outputs": [],
   "source": [
    "data = pd.read_csv(\"laptop_price.csv\", encoding = \"latin-1\")"
   ]
  },
  {
   "cell_type": "markdown",
   "metadata": {},
   "source": [
    "<br><br>\n",
    "Print the first five rows"
   ]
  },
  {
   "cell_type": "code",
   "execution_count": 3,
   "metadata": {},
   "outputs": [
    {
     "data": {
      "text/html": [
       "<div>\n",
       "<style scoped>\n",
       "    .dataframe tbody tr th:only-of-type {\n",
       "        vertical-align: middle;\n",
       "    }\n",
       "\n",
       "    .dataframe tbody tr th {\n",
       "        vertical-align: top;\n",
       "    }\n",
       "\n",
       "    .dataframe thead th {\n",
       "        text-align: right;\n",
       "    }\n",
       "</style>\n",
       "<table border=\"1\" class=\"dataframe\">\n",
       "  <thead>\n",
       "    <tr style=\"text-align: right;\">\n",
       "      <th></th>\n",
       "      <th>Laptop ID</th>\n",
       "      <th>Company</th>\n",
       "      <th>Product</th>\n",
       "      <th>Type Name</th>\n",
       "      <th>Inches</th>\n",
       "      <th>Screen Resolution</th>\n",
       "      <th>CPU</th>\n",
       "      <th>RAM</th>\n",
       "      <th>GPU</th>\n",
       "      <th>OS</th>\n",
       "      <th>Weight</th>\n",
       "      <th>Price Euros</th>\n",
       "    </tr>\n",
       "  </thead>\n",
       "  <tbody>\n",
       "    <tr>\n",
       "      <th>0</th>\n",
       "      <td>1</td>\n",
       "      <td>Apple</td>\n",
       "      <td>MacBook Pro</td>\n",
       "      <td>Ultrabook</td>\n",
       "      <td>13.3</td>\n",
       "      <td>IPS Panel Retina Display 2560x1600</td>\n",
       "      <td>Intel Core i5 2.3GHz</td>\n",
       "      <td>8GB</td>\n",
       "      <td>Intel Iris Plus Graphics 640</td>\n",
       "      <td>macOS</td>\n",
       "      <td>1.37kg</td>\n",
       "      <td>1339.69</td>\n",
       "    </tr>\n",
       "    <tr>\n",
       "      <th>1</th>\n",
       "      <td>2</td>\n",
       "      <td>Apple</td>\n",
       "      <td>Macbook Air</td>\n",
       "      <td>Ultrabook</td>\n",
       "      <td>13.3</td>\n",
       "      <td>1440x900</td>\n",
       "      <td>Intel Core i5 1.8GHz</td>\n",
       "      <td>8GB</td>\n",
       "      <td>Intel HD Graphics 6000</td>\n",
       "      <td>macOS</td>\n",
       "      <td>1.34kg</td>\n",
       "      <td>898.94</td>\n",
       "    </tr>\n",
       "    <tr>\n",
       "      <th>2</th>\n",
       "      <td>3</td>\n",
       "      <td>HP</td>\n",
       "      <td>250 G6</td>\n",
       "      <td>Notebook</td>\n",
       "      <td>15.6</td>\n",
       "      <td>Full HD 1920x1080</td>\n",
       "      <td>Intel Core i5 7200U 2.5GHz</td>\n",
       "      <td>8GB</td>\n",
       "      <td>Intel HD Graphics 620</td>\n",
       "      <td>No OS</td>\n",
       "      <td>1.86kg</td>\n",
       "      <td>575.00</td>\n",
       "    </tr>\n",
       "    <tr>\n",
       "      <th>3</th>\n",
       "      <td>4</td>\n",
       "      <td>Apple</td>\n",
       "      <td>MacBook Pro</td>\n",
       "      <td>Ultrabook</td>\n",
       "      <td>15.4</td>\n",
       "      <td>IPS Panel Retina Display 2880x1800</td>\n",
       "      <td>Intel Core i7 2.7GHz</td>\n",
       "      <td>16GB</td>\n",
       "      <td>AMD Radeon Pro 455</td>\n",
       "      <td>macOS</td>\n",
       "      <td>1.83kg</td>\n",
       "      <td>2537.45</td>\n",
       "    </tr>\n",
       "    <tr>\n",
       "      <th>4</th>\n",
       "      <td>5</td>\n",
       "      <td>Apple</td>\n",
       "      <td>MacBook Pro</td>\n",
       "      <td>Ultrabook</td>\n",
       "      <td>13.3</td>\n",
       "      <td>IPS Panel Retina Display 2560x1600</td>\n",
       "      <td>Intel Core i5 3.1GHz</td>\n",
       "      <td>8GB</td>\n",
       "      <td>Intel Iris Plus Graphics 650</td>\n",
       "      <td>macOS</td>\n",
       "      <td>1.37kg</td>\n",
       "      <td>1803.60</td>\n",
       "    </tr>\n",
       "  </tbody>\n",
       "</table>\n",
       "</div>"
      ],
      "text/plain": [
       "   Laptop ID Company      Product  Type Name  Inches  \\\n",
       "0          1   Apple  MacBook Pro  Ultrabook    13.3   \n",
       "1          2   Apple  Macbook Air  Ultrabook    13.3   \n",
       "2          3      HP       250 G6   Notebook    15.6   \n",
       "3          4   Apple  MacBook Pro  Ultrabook    15.4   \n",
       "4          5   Apple  MacBook Pro  Ultrabook    13.3   \n",
       "\n",
       "                    Screen Resolution                         CPU   RAM  \\\n",
       "0  IPS Panel Retina Display 2560x1600        Intel Core i5 2.3GHz   8GB   \n",
       "1                            1440x900        Intel Core i5 1.8GHz   8GB   \n",
       "2                   Full HD 1920x1080  Intel Core i5 7200U 2.5GHz   8GB   \n",
       "3  IPS Panel Retina Display 2880x1800        Intel Core i7 2.7GHz  16GB   \n",
       "4  IPS Panel Retina Display 2560x1600        Intel Core i5 3.1GHz   8GB   \n",
       "\n",
       "                            GPU     OS  Weight  Price Euros  \n",
       "0  Intel Iris Plus Graphics 640  macOS  1.37kg      1339.69  \n",
       "1        Intel HD Graphics 6000  macOS  1.34kg       898.94  \n",
       "2         Intel HD Graphics 620  No OS  1.86kg       575.00  \n",
       "3            AMD Radeon Pro 455  macOS  1.83kg      2537.45  \n",
       "4  Intel Iris Plus Graphics 650  macOS  1.37kg      1803.60  "
      ]
     },
     "execution_count": 3,
     "metadata": {},
     "output_type": "execute_result"
    }
   ],
   "source": [
    "data.head()"
   ]
  },
  {
   "cell_type": "markdown",
   "metadata": {},
   "source": [
    "<br><br>\n",
    "Get all row and column count"
   ]
  },
  {
   "cell_type": "code",
   "execution_count": 4,
   "metadata": {},
   "outputs": [
    {
     "data": {
      "text/plain": [
       "(1303, 12)"
      ]
     },
     "execution_count": 4,
     "metadata": {},
     "output_type": "execute_result"
    }
   ],
   "source": [
    "data.shape"
   ]
  },
  {
   "cell_type": "markdown",
   "metadata": {},
   "source": [
    "<br><br>\n",
    "Check null values"
   ]
  },
  {
   "cell_type": "code",
   "execution_count": 5,
   "metadata": {},
   "outputs": [
    {
     "data": {
      "text/html": [
       "<div>\n",
       "<style scoped>\n",
       "    .dataframe tbody tr th:only-of-type {\n",
       "        vertical-align: middle;\n",
       "    }\n",
       "\n",
       "    .dataframe tbody tr th {\n",
       "        vertical-align: top;\n",
       "    }\n",
       "\n",
       "    .dataframe thead th {\n",
       "        text-align: right;\n",
       "    }\n",
       "</style>\n",
       "<table border=\"1\" class=\"dataframe\">\n",
       "  <thead>\n",
       "    <tr style=\"text-align: right;\">\n",
       "      <th></th>\n",
       "      <th>Laptop ID</th>\n",
       "      <th>Company</th>\n",
       "      <th>Product</th>\n",
       "      <th>Type Name</th>\n",
       "      <th>Inches</th>\n",
       "      <th>Screen Resolution</th>\n",
       "      <th>CPU</th>\n",
       "      <th>RAM</th>\n",
       "      <th>GPU</th>\n",
       "      <th>OS</th>\n",
       "      <th>Weight</th>\n",
       "      <th>Price Euros</th>\n",
       "    </tr>\n",
       "  </thead>\n",
       "  <tbody>\n",
       "    <tr>\n",
       "      <th>0</th>\n",
       "      <td>False</td>\n",
       "      <td>False</td>\n",
       "      <td>False</td>\n",
       "      <td>False</td>\n",
       "      <td>False</td>\n",
       "      <td>False</td>\n",
       "      <td>False</td>\n",
       "      <td>False</td>\n",
       "      <td>False</td>\n",
       "      <td>False</td>\n",
       "      <td>False</td>\n",
       "      <td>False</td>\n",
       "    </tr>\n",
       "    <tr>\n",
       "      <th>1</th>\n",
       "      <td>False</td>\n",
       "      <td>False</td>\n",
       "      <td>False</td>\n",
       "      <td>False</td>\n",
       "      <td>False</td>\n",
       "      <td>False</td>\n",
       "      <td>False</td>\n",
       "      <td>False</td>\n",
       "      <td>False</td>\n",
       "      <td>False</td>\n",
       "      <td>False</td>\n",
       "      <td>False</td>\n",
       "    </tr>\n",
       "    <tr>\n",
       "      <th>2</th>\n",
       "      <td>False</td>\n",
       "      <td>False</td>\n",
       "      <td>False</td>\n",
       "      <td>False</td>\n",
       "      <td>False</td>\n",
       "      <td>False</td>\n",
       "      <td>False</td>\n",
       "      <td>False</td>\n",
       "      <td>False</td>\n",
       "      <td>False</td>\n",
       "      <td>False</td>\n",
       "      <td>False</td>\n",
       "    </tr>\n",
       "    <tr>\n",
       "      <th>3</th>\n",
       "      <td>False</td>\n",
       "      <td>False</td>\n",
       "      <td>False</td>\n",
       "      <td>False</td>\n",
       "      <td>False</td>\n",
       "      <td>False</td>\n",
       "      <td>False</td>\n",
       "      <td>False</td>\n",
       "      <td>False</td>\n",
       "      <td>False</td>\n",
       "      <td>False</td>\n",
       "      <td>False</td>\n",
       "    </tr>\n",
       "    <tr>\n",
       "      <th>4</th>\n",
       "      <td>False</td>\n",
       "      <td>False</td>\n",
       "      <td>False</td>\n",
       "      <td>False</td>\n",
       "      <td>False</td>\n",
       "      <td>False</td>\n",
       "      <td>False</td>\n",
       "      <td>False</td>\n",
       "      <td>False</td>\n",
       "      <td>False</td>\n",
       "      <td>False</td>\n",
       "      <td>False</td>\n",
       "    </tr>\n",
       "    <tr>\n",
       "      <th>...</th>\n",
       "      <td>...</td>\n",
       "      <td>...</td>\n",
       "      <td>...</td>\n",
       "      <td>...</td>\n",
       "      <td>...</td>\n",
       "      <td>...</td>\n",
       "      <td>...</td>\n",
       "      <td>...</td>\n",
       "      <td>...</td>\n",
       "      <td>...</td>\n",
       "      <td>...</td>\n",
       "      <td>...</td>\n",
       "    </tr>\n",
       "    <tr>\n",
       "      <th>1298</th>\n",
       "      <td>False</td>\n",
       "      <td>False</td>\n",
       "      <td>False</td>\n",
       "      <td>False</td>\n",
       "      <td>False</td>\n",
       "      <td>False</td>\n",
       "      <td>False</td>\n",
       "      <td>False</td>\n",
       "      <td>False</td>\n",
       "      <td>False</td>\n",
       "      <td>False</td>\n",
       "      <td>False</td>\n",
       "    </tr>\n",
       "    <tr>\n",
       "      <th>1299</th>\n",
       "      <td>False</td>\n",
       "      <td>False</td>\n",
       "      <td>False</td>\n",
       "      <td>False</td>\n",
       "      <td>False</td>\n",
       "      <td>False</td>\n",
       "      <td>False</td>\n",
       "      <td>False</td>\n",
       "      <td>False</td>\n",
       "      <td>False</td>\n",
       "      <td>False</td>\n",
       "      <td>False</td>\n",
       "    </tr>\n",
       "    <tr>\n",
       "      <th>1300</th>\n",
       "      <td>False</td>\n",
       "      <td>False</td>\n",
       "      <td>False</td>\n",
       "      <td>False</td>\n",
       "      <td>False</td>\n",
       "      <td>False</td>\n",
       "      <td>False</td>\n",
       "      <td>False</td>\n",
       "      <td>False</td>\n",
       "      <td>False</td>\n",
       "      <td>False</td>\n",
       "      <td>False</td>\n",
       "    </tr>\n",
       "    <tr>\n",
       "      <th>1301</th>\n",
       "      <td>False</td>\n",
       "      <td>False</td>\n",
       "      <td>False</td>\n",
       "      <td>False</td>\n",
       "      <td>False</td>\n",
       "      <td>False</td>\n",
       "      <td>False</td>\n",
       "      <td>False</td>\n",
       "      <td>False</td>\n",
       "      <td>False</td>\n",
       "      <td>False</td>\n",
       "      <td>False</td>\n",
       "    </tr>\n",
       "    <tr>\n",
       "      <th>1302</th>\n",
       "      <td>False</td>\n",
       "      <td>False</td>\n",
       "      <td>False</td>\n",
       "      <td>False</td>\n",
       "      <td>False</td>\n",
       "      <td>False</td>\n",
       "      <td>False</td>\n",
       "      <td>False</td>\n",
       "      <td>False</td>\n",
       "      <td>False</td>\n",
       "      <td>False</td>\n",
       "      <td>False</td>\n",
       "    </tr>\n",
       "  </tbody>\n",
       "</table>\n",
       "<p>1303 rows × 12 columns</p>\n",
       "</div>"
      ],
      "text/plain": [
       "      Laptop ID  Company  Product  Type Name  Inches  Screen Resolution  \\\n",
       "0         False    False    False      False   False              False   \n",
       "1         False    False    False      False   False              False   \n",
       "2         False    False    False      False   False              False   \n",
       "3         False    False    False      False   False              False   \n",
       "4         False    False    False      False   False              False   \n",
       "...         ...      ...      ...        ...     ...                ...   \n",
       "1298      False    False    False      False   False              False   \n",
       "1299      False    False    False      False   False              False   \n",
       "1300      False    False    False      False   False              False   \n",
       "1301      False    False    False      False   False              False   \n",
       "1302      False    False    False      False   False              False   \n",
       "\n",
       "        CPU    RAM    GPU     OS  Weight  Price Euros  \n",
       "0     False  False  False  False   False        False  \n",
       "1     False  False  False  False   False        False  \n",
       "2     False  False  False  False   False        False  \n",
       "3     False  False  False  False   False        False  \n",
       "4     False  False  False  False   False        False  \n",
       "...     ...    ...    ...    ...     ...          ...  \n",
       "1298  False  False  False  False   False        False  \n",
       "1299  False  False  False  False   False        False  \n",
       "1300  False  False  False  False   False        False  \n",
       "1301  False  False  False  False   False        False  \n",
       "1302  False  False  False  False   False        False  \n",
       "\n",
       "[1303 rows x 12 columns]"
      ]
     },
     "execution_count": 5,
     "metadata": {},
     "output_type": "execute_result"
    }
   ],
   "source": [
    "data.isnull()"
   ]
  },
  {
   "cell_type": "markdown",
   "metadata": {},
   "source": [
    "<br><br>\n",
    "Get null value count"
   ]
  },
  {
   "cell_type": "code",
   "execution_count": 6,
   "metadata": {},
   "outputs": [
    {
     "data": {
      "text/plain": [
       "Laptop ID            0\n",
       "Company              0\n",
       "Product              0\n",
       "Type Name            0\n",
       "Inches               0\n",
       "Screen Resolution    0\n",
       "CPU                  0\n",
       "RAM                  0\n",
       "GPU                  0\n",
       "OS                   0\n",
       "Weight               0\n",
       "Price Euros          0\n",
       "dtype: int64"
      ]
     },
     "execution_count": 6,
     "metadata": {},
     "output_type": "execute_result"
    }
   ],
   "source": [
    "data.isnull().sum()"
   ]
  },
  {
   "cell_type": "markdown",
   "metadata": {},
   "source": [
    "<br><br>\n",
    "Get dataset informations"
   ]
  },
  {
   "cell_type": "code",
   "execution_count": 7,
   "metadata": {},
   "outputs": [
    {
     "name": "stdout",
     "output_type": "stream",
     "text": [
      "<class 'pandas.core.frame.DataFrame'>\n",
      "RangeIndex: 1303 entries, 0 to 1302\n",
      "Data columns (total 12 columns):\n",
      " #   Column             Non-Null Count  Dtype  \n",
      "---  ------             --------------  -----  \n",
      " 0   Laptop ID          1303 non-null   int64  \n",
      " 1   Company            1303 non-null   object \n",
      " 2   Product            1303 non-null   object \n",
      " 3   Type Name          1303 non-null   object \n",
      " 4   Inches             1303 non-null   float64\n",
      " 5   Screen Resolution  1303 non-null   object \n",
      " 6   CPU                1303 non-null   object \n",
      " 7   RAM                1303 non-null   object \n",
      " 8   GPU                1303 non-null   object \n",
      " 9   OS                 1303 non-null   object \n",
      " 10  Weight             1303 non-null   object \n",
      " 11  Price Euros        1303 non-null   float64\n",
      "dtypes: float64(2), int64(1), object(9)\n",
      "memory usage: 122.3+ KB\n"
     ]
    }
   ],
   "source": [
    "data.info()"
   ]
  },
  {
   "cell_type": "markdown",
   "metadata": {},
   "source": [
    "<br><br>\n",
    "Replase some column names"
   ]
  },
  {
   "cell_type": "code",
   "execution_count": 8,
   "metadata": {},
   "outputs": [],
   "source": [
    "data = data.rename(columns={\"Laptop ID\": \"Laptop_ID\", \"Type Name\": \"Type_Name\", \"Screen Resolution\": \"Screen_Resolution\", \"Price Euros\": \"Price_Euros\"})"
   ]
  },
  {
   "cell_type": "markdown",
   "metadata": {},
   "source": [
    "<br><br>\n",
    "Print columns names"
   ]
  },
  {
   "cell_type": "code",
   "execution_count": 9,
   "metadata": {},
   "outputs": [
    {
     "name": "stdout",
     "output_type": "stream",
     "text": [
      "Index(['Laptop_ID', 'Company', 'Product', 'Type_Name', 'Inches',\n",
      "       'Screen_Resolution', 'CPU', 'RAM', 'GPU', 'OS', 'Weight',\n",
      "       'Price_Euros'],\n",
      "      dtype='object')\n"
     ]
    }
   ],
   "source": [
    "print(data.columns)"
   ]
  },
  {
   "cell_type": "markdown",
   "metadata": {},
   "source": [
    "<br><br>\n",
    "Replase RAM column and Weight column converting `integer` and `float`"
   ]
  },
  {
   "cell_type": "code",
   "execution_count": 10,
   "metadata": {},
   "outputs": [],
   "source": [
    "data[\"RAM\"] = data[\"RAM\"].str.replace(\"GB\", \"\").astype(\"int32\")\n",
    "data[\"Weight\"] = data[\"Weight\"].str.replace(\"kg\", \"\").astype(\"float32\")"
   ]
  },
  {
   "cell_type": "markdown",
   "metadata": {},
   "source": [
    "<br><br>\n",
    "Print the first two rows"
   ]
  },
  {
   "cell_type": "code",
   "execution_count": 11,
   "metadata": {},
   "outputs": [
    {
     "data": {
      "text/html": [
       "<div>\n",
       "<style scoped>\n",
       "    .dataframe tbody tr th:only-of-type {\n",
       "        vertical-align: middle;\n",
       "    }\n",
       "\n",
       "    .dataframe tbody tr th {\n",
       "        vertical-align: top;\n",
       "    }\n",
       "\n",
       "    .dataframe thead th {\n",
       "        text-align: right;\n",
       "    }\n",
       "</style>\n",
       "<table border=\"1\" class=\"dataframe\">\n",
       "  <thead>\n",
       "    <tr style=\"text-align: right;\">\n",
       "      <th></th>\n",
       "      <th>Laptop_ID</th>\n",
       "      <th>Company</th>\n",
       "      <th>Product</th>\n",
       "      <th>Type_Name</th>\n",
       "      <th>Inches</th>\n",
       "      <th>Screen_Resolution</th>\n",
       "      <th>CPU</th>\n",
       "      <th>RAM</th>\n",
       "      <th>GPU</th>\n",
       "      <th>OS</th>\n",
       "      <th>Weight</th>\n",
       "      <th>Price_Euros</th>\n",
       "    </tr>\n",
       "  </thead>\n",
       "  <tbody>\n",
       "    <tr>\n",
       "      <th>0</th>\n",
       "      <td>1</td>\n",
       "      <td>Apple</td>\n",
       "      <td>MacBook Pro</td>\n",
       "      <td>Ultrabook</td>\n",
       "      <td>13.3</td>\n",
       "      <td>IPS Panel Retina Display 2560x1600</td>\n",
       "      <td>Intel Core i5 2.3GHz</td>\n",
       "      <td>8</td>\n",
       "      <td>Intel Iris Plus Graphics 640</td>\n",
       "      <td>macOS</td>\n",
       "      <td>1.37</td>\n",
       "      <td>1339.69</td>\n",
       "    </tr>\n",
       "    <tr>\n",
       "      <th>1</th>\n",
       "      <td>2</td>\n",
       "      <td>Apple</td>\n",
       "      <td>Macbook Air</td>\n",
       "      <td>Ultrabook</td>\n",
       "      <td>13.3</td>\n",
       "      <td>1440x900</td>\n",
       "      <td>Intel Core i5 1.8GHz</td>\n",
       "      <td>8</td>\n",
       "      <td>Intel HD Graphics 6000</td>\n",
       "      <td>macOS</td>\n",
       "      <td>1.34</td>\n",
       "      <td>898.94</td>\n",
       "    </tr>\n",
       "  </tbody>\n",
       "</table>\n",
       "</div>"
      ],
      "text/plain": [
       "   Laptop_ID Company      Product  Type_Name  Inches  \\\n",
       "0          1   Apple  MacBook Pro  Ultrabook    13.3   \n",
       "1          2   Apple  Macbook Air  Ultrabook    13.3   \n",
       "\n",
       "                    Screen_Resolution                   CPU  RAM  \\\n",
       "0  IPS Panel Retina Display 2560x1600  Intel Core i5 2.3GHz    8   \n",
       "1                            1440x900  Intel Core i5 1.8GHz    8   \n",
       "\n",
       "                            GPU     OS  Weight  Price_Euros  \n",
       "0  Intel Iris Plus Graphics 640  macOS    1.37      1339.69  \n",
       "1        Intel HD Graphics 6000  macOS    1.34       898.94  "
      ]
     },
     "execution_count": 11,
     "metadata": {},
     "output_type": "execute_result"
    }
   ],
   "source": [
    "data.head(2)"
   ]
  },
  {
   "cell_type": "markdown",
   "metadata": {},
   "source": [
    "<br><br>\n",
    "Get dataset informations"
   ]
  },
  {
   "cell_type": "code",
   "execution_count": 12,
   "metadata": {},
   "outputs": [
    {
     "name": "stdout",
     "output_type": "stream",
     "text": [
      "<class 'pandas.core.frame.DataFrame'>\n",
      "RangeIndex: 1303 entries, 0 to 1302\n",
      "Data columns (total 12 columns):\n",
      " #   Column             Non-Null Count  Dtype  \n",
      "---  ------             --------------  -----  \n",
      " 0   Laptop_ID          1303 non-null   int64  \n",
      " 1   Company            1303 non-null   object \n",
      " 2   Product            1303 non-null   object \n",
      " 3   Type_Name          1303 non-null   object \n",
      " 4   Inches             1303 non-null   float64\n",
      " 5   Screen_Resolution  1303 non-null   object \n",
      " 6   CPU                1303 non-null   object \n",
      " 7   RAM                1303 non-null   int32  \n",
      " 8   GPU                1303 non-null   object \n",
      " 9   OS                 1303 non-null   object \n",
      " 10  Weight             1303 non-null   float32\n",
      " 11  Price_Euros        1303 non-null   float64\n",
      "dtypes: float32(1), float64(2), int32(1), int64(1), object(7)\n",
      "memory usage: 112.1+ KB\n"
     ]
    }
   ],
   "source": [
    "data.info()"
   ]
  },
  {
   "cell_type": "markdown",
   "metadata": {},
   "source": [
    "<br><br>\n",
    "Core-related features for the price"
   ]
  },
  {
   "cell_type": "code",
   "execution_count": 13,
   "metadata": {},
   "outputs": [
    {
     "data": {
      "text/plain": [
       "RAM            0.743007\n",
       "Weight         0.210370\n",
       "Price_Euros    1.000000\n",
       "Name: Price_Euros, dtype: float64"
      ]
     },
     "execution_count": 13,
     "metadata": {},
     "output_type": "execute_result"
    }
   ],
   "source": [
    "# Get numerical columns\n",
    "numeric_data = data.select_dtypes(include=[\"number\"])\n",
    "\n",
    "# Remove unwanted columns\n",
    "numeric_data = numeric_data.drop(columns=[\"Laptop_ID\"])\n",
    "numeric_data = numeric_data.drop(columns=[\"Inches\"])\n",
    "\n",
    "numeric_data.corr()[\"Price_Euros\"]"
   ]
  },
  {
   "cell_type": "markdown",
   "metadata": {},
   "source": [
    "<br><br>\n",
    "### Company\tColume"
   ]
  },
  {
   "cell_type": "markdown",
   "metadata": {},
   "source": [
    "Print company names"
   ]
  },
  {
   "cell_type": "code",
   "execution_count": 14,
   "metadata": {},
   "outputs": [
    {
     "data": {
      "text/plain": [
       "Company\n",
       "Dell         297\n",
       "Lenovo       297\n",
       "HP           274\n",
       "Asus         158\n",
       "Acer         103\n",
       "MSI           54\n",
       "Toshiba       48\n",
       "Apple         21\n",
       "Samsung        9\n",
       "Mediacom       7\n",
       "Razer          7\n",
       "Microsoft      6\n",
       "Vero           4\n",
       "Xiaomi         4\n",
       "Chuwi          3\n",
       "Fujitsu        3\n",
       "Google         3\n",
       "LG             3\n",
       "Huawei         2\n",
       "Name: count, dtype: int64"
      ]
     },
     "execution_count": 14,
     "metadata": {},
     "output_type": "execute_result"
    }
   ],
   "source": [
    "data[\"Company\"].value_counts()"
   ]
  },
  {
   "cell_type": "markdown",
   "metadata": {},
   "source": [
    "<br><br>\n",
    "All company count"
   ]
  },
  {
   "cell_type": "code",
   "execution_count": 15,
   "metadata": {},
   "outputs": [
    {
     "data": {
      "text/plain": [
       "19"
      ]
     },
     "execution_count": 15,
     "metadata": {},
     "output_type": "execute_result"
    }
   ],
   "source": [
    "len(data[\"Company\"].value_counts())"
   ]
  },
  {
   "cell_type": "markdown",
   "metadata": {},
   "source": [
    "<br><br>\n",
    "Create a function to replace companies that have less than 10 products in the data set into 'Others' type"
   ]
  },
  {
   "cell_type": "code",
   "execution_count": 16,
   "metadata": {},
   "outputs": [],
   "source": [
    "def separate_other_company(input):\n",
    "    return input if data[\"Company\"].value_counts()[input] > 10 else \"Other\"\n",
    "\n",
    "# Apply function into the dataset\n",
    "data[\"Company\"] = data[\"Company\"].apply(separate_other_company)"
   ]
  },
  {
   "cell_type": "markdown",
   "metadata": {},
   "source": [
    "<br><br>\n",
    "Print company names"
   ]
  },
  {
   "cell_type": "code",
   "execution_count": 17,
   "metadata": {},
   "outputs": [
    {
     "data": {
      "text/plain": [
       "Company\n",
       "Dell       297\n",
       "Lenovo     297\n",
       "HP         274\n",
       "Asus       158\n",
       "Acer       103\n",
       "MSI         54\n",
       "Other       51\n",
       "Toshiba     48\n",
       "Apple       21\n",
       "Name: count, dtype: int64"
      ]
     },
     "execution_count": 17,
     "metadata": {},
     "output_type": "execute_result"
    }
   ],
   "source": [
    "data[\"Company\"].value_counts()"
   ]
  },
  {
   "cell_type": "markdown",
   "metadata": {},
   "source": [
    "<br><br>\n",
    "All company count"
   ]
  },
  {
   "cell_type": "code",
   "execution_count": 18,
   "metadata": {},
   "outputs": [
    {
     "data": {
      "text/plain": [
       "9"
      ]
     },
     "execution_count": 18,
     "metadata": {},
     "output_type": "execute_result"
    }
   ],
   "source": [
    "len(data[\"Company\"].value_counts())"
   ]
  },
  {
   "cell_type": "markdown",
   "metadata": {},
   "source": [
    "<br><br>\n",
    "### Type Name Colume"
   ]
  },
  {
   "cell_type": "markdown",
   "metadata": {},
   "source": [
    "Print type names"
   ]
  },
  {
   "cell_type": "code",
   "execution_count": 19,
   "metadata": {},
   "outputs": [
    {
     "data": {
      "text/plain": [
       "Type_Name\n",
       "Notebook              727\n",
       "Gaming                205\n",
       "Ultrabook             196\n",
       "2 in 1 Convertible    121\n",
       "Workstation            29\n",
       "Netbook                25\n",
       "Name: count, dtype: int64"
      ]
     },
     "execution_count": 19,
     "metadata": {},
     "output_type": "execute_result"
    }
   ],
   "source": [
    "data[\"Type_Name\"].value_counts()"
   ]
  },
  {
   "cell_type": "markdown",
   "metadata": {},
   "source": [
    "<br><br>\n",
    "All type name count"
   ]
  },
  {
   "cell_type": "code",
   "execution_count": 20,
   "metadata": {},
   "outputs": [
    {
     "data": {
      "text/plain": [
       "6"
      ]
     },
     "execution_count": 20,
     "metadata": {},
     "output_type": "execute_result"
    }
   ],
   "source": [
    "len(data[\"Type_Name\"].value_counts())"
   ]
  },
  {
   "cell_type": "markdown",
   "metadata": {},
   "source": [
    "<br><br>\n",
    "### CPU Colume"
   ]
  },
  {
   "cell_type": "markdown",
   "metadata": {},
   "source": [
    "Print CPU"
   ]
  },
  {
   "cell_type": "code",
   "execution_count": 21,
   "metadata": {},
   "outputs": [
    {
     "data": {
      "text/plain": [
       "CPU\n",
       "Intel Core i5 7200U 2.5GHz       190\n",
       "Intel Core i7 7700HQ 2.8GHz      146\n",
       "Intel Core i7 7500U 2.7GHz       134\n",
       "Intel Core i7 8550U 1.8GHz        73\n",
       "Intel Core i5 8250U 1.6GHz        72\n",
       "                                ... \n",
       "Intel Core i5 7200U 2.70GHz        1\n",
       "Intel Core M M7-6Y75 1.2GHz        1\n",
       "Intel Core M 6Y54 1.1GHz           1\n",
       "AMD E-Series 9000 2.2GHz           1\n",
       "Samsung Cortex A72&A53 2.0GHz      1\n",
       "Name: count, Length: 118, dtype: int64"
      ]
     },
     "execution_count": 21,
     "metadata": {},
     "output_type": "execute_result"
    }
   ],
   "source": [
    "data[\"CPU\"].value_counts()"
   ]
  },
  {
   "cell_type": "markdown",
   "metadata": {},
   "source": [
    "<br><br>\n",
    "All CPU count"
   ]
  },
  {
   "cell_type": "code",
   "execution_count": 22,
   "metadata": {},
   "outputs": [
    {
     "data": {
      "text/plain": [
       "118"
      ]
     },
     "execution_count": 22,
     "metadata": {},
     "output_type": "execute_result"
    }
   ],
   "source": [
    "len(data[\"CPU\"].value_counts())"
   ]
  },
  {
   "cell_type": "markdown",
   "metadata": {},
   "source": [
    "<br><br>\n",
    "Create a function to replace CPU types"
   ]
  },
  {
   "cell_type": "code",
   "execution_count": 23,
   "metadata": {},
   "outputs": [],
   "source": [
    "def separate_cpu_types(input):\n",
    "    \n",
    "    input_lower = input.lower()\n",
    "    \n",
    "    if \"intel core i7\" in input_lower:\n",
    "        return \"Intel Core i7\"\n",
    "        \n",
    "    elif \"intel core i5\" in input_lower:\n",
    "        return \"Intel Core i5\"\n",
    "        \n",
    "    elif \"intel core i3\" in input_lower:\n",
    "        return \"Intel Core i3\"\n",
    "        \n",
    "    elif \"amd\" in input_lower:\n",
    "        return \"AMD\"\n",
    "        \n",
    "    else:\n",
    "        return \"Other\"\n",
    "\n",
    "# Apply function to the dataset\n",
    "data[\"CPU\"] = data[\"CPU\"].apply(separate_cpu_types)"
   ]
  },
  {
   "cell_type": "markdown",
   "metadata": {},
   "source": [
    "<br><br>\n",
    "Print CPU"
   ]
  },
  {
   "cell_type": "code",
   "execution_count": 24,
   "metadata": {},
   "outputs": [
    {
     "data": {
      "text/plain": [
       "CPU\n",
       "Intel Core i7    527\n",
       "Intel Core i5    423\n",
       "Other            155\n",
       "Intel Core i3    136\n",
       "AMD               62\n",
       "Name: count, dtype: int64"
      ]
     },
     "execution_count": 24,
     "metadata": {},
     "output_type": "execute_result"
    }
   ],
   "source": [
    "data[\"CPU\"].value_counts()"
   ]
  },
  {
   "cell_type": "markdown",
   "metadata": {},
   "source": [
    "<br><br>\n",
    "All CPU count"
   ]
  },
  {
   "cell_type": "code",
   "execution_count": 25,
   "metadata": {},
   "outputs": [
    {
     "data": {
      "text/plain": [
       "5"
      ]
     },
     "execution_count": 25,
     "metadata": {},
     "output_type": "execute_result"
    }
   ],
   "source": [
    "len(data[\"CPU\"].value_counts())"
   ]
  },
  {
   "cell_type": "markdown",
   "metadata": {},
   "source": [
    "<br><br>\n",
    "### GPU Colume"
   ]
  },
  {
   "cell_type": "markdown",
   "metadata": {},
   "source": [
    "Print GPU"
   ]
  },
  {
   "cell_type": "code",
   "execution_count": 26,
   "metadata": {},
   "outputs": [
    {
     "data": {
      "text/plain": [
       "GPU\n",
       "Intel HD Graphics 620      281\n",
       "Intel HD Graphics 520      185\n",
       "Intel UHD Graphics 620      68\n",
       "Nvidia GeForce GTX 1050     66\n",
       "Nvidia GeForce GTX 1060     48\n",
       "                          ... \n",
       "Nvidia Quadro M500M          1\n",
       "AMD Radeon R7 M360           1\n",
       "Nvidia Quadro M3000M         1\n",
       "Nvidia GeForce 960M          1\n",
       "ARM Mali T860 MP4            1\n",
       "Name: count, Length: 110, dtype: int64"
      ]
     },
     "execution_count": 26,
     "metadata": {},
     "output_type": "execute_result"
    }
   ],
   "source": [
    "data[\"GPU\"].value_counts()"
   ]
  },
  {
   "cell_type": "markdown",
   "metadata": {},
   "source": [
    "<br><br>\n",
    "All GPU count"
   ]
  },
  {
   "cell_type": "code",
   "execution_count": 27,
   "metadata": {},
   "outputs": [
    {
     "data": {
      "text/plain": [
       "110"
      ]
     },
     "execution_count": 27,
     "metadata": {},
     "output_type": "execute_result"
    }
   ],
   "source": [
    "len(data[\"GPU\"].value_counts())"
   ]
  },
  {
   "cell_type": "markdown",
   "metadata": {},
   "source": [
    "<br><br>\n",
    "Create a function to replace GPU types"
   ]
  },
  {
   "cell_type": "code",
   "execution_count": 28,
   "metadata": {},
   "outputs": [],
   "source": [
    "def separate_gpu_types(input):\n",
    "    \n",
    "    input_lower = input.lower()\n",
    "    \n",
    "    if \"intel\" in input_lower:\n",
    "        return \"Intel\"\n",
    "        \n",
    "    elif \"nvidia\" in input_lower:\n",
    "        return \"Nvidia\"\n",
    "        \n",
    "    elif \"amd\" in input_lower:\n",
    "        return \"AMD\"\n",
    "        \n",
    "    else:\n",
    "        return \"Other\"\n",
    "\n",
    "# Apply function to the dataset\n",
    "data[\"GPU\"] = data[\"GPU\"].apply(separate_gpu_types)"
   ]
  },
  {
   "cell_type": "markdown",
   "metadata": {},
   "source": [
    "<br><br>\n",
    "Print GPU"
   ]
  },
  {
   "cell_type": "code",
   "execution_count": 29,
   "metadata": {},
   "outputs": [
    {
     "data": {
      "text/plain": [
       "GPU\n",
       "Intel     722\n",
       "Nvidia    400\n",
       "AMD       180\n",
       "Other       1\n",
       "Name: count, dtype: int64"
      ]
     },
     "execution_count": 29,
     "metadata": {},
     "output_type": "execute_result"
    }
   ],
   "source": [
    "data[\"GPU\"].value_counts()"
   ]
  },
  {
   "cell_type": "markdown",
   "metadata": {},
   "source": [
    "<br><br>\n",
    "All GPU count"
   ]
  },
  {
   "cell_type": "code",
   "execution_count": 30,
   "metadata": {},
   "outputs": [
    {
     "data": {
      "text/plain": [
       "4"
      ]
     },
     "execution_count": 30,
     "metadata": {},
     "output_type": "execute_result"
    }
   ],
   "source": [
    "len(data[\"GPU\"].value_counts())"
   ]
  },
  {
   "cell_type": "markdown",
   "metadata": {},
   "source": [
    "<br><br>\n",
    "Get all row and column count"
   ]
  },
  {
   "cell_type": "code",
   "execution_count": 31,
   "metadata": {},
   "outputs": [
    {
     "data": {
      "text/plain": [
       "(1303, 12)"
      ]
     },
     "execution_count": 31,
     "metadata": {},
     "output_type": "execute_result"
    }
   ],
   "source": [
    "data.shape"
   ]
  },
  {
   "cell_type": "markdown",
   "metadata": {},
   "source": [
    "<br><br>\n",
    "Remove 'other' GPU type row"
   ]
  },
  {
   "cell_type": "code",
   "execution_count": 32,
   "metadata": {},
   "outputs": [],
   "source": [
    "data = data[data[\"GPU\"] != \"Other\"]"
   ]
  },
  {
   "cell_type": "markdown",
   "metadata": {},
   "source": [
    "<br><br>\n",
    "Get all row and column count"
   ]
  },
  {
   "cell_type": "code",
   "execution_count": 33,
   "metadata": {},
   "outputs": [
    {
     "data": {
      "text/plain": [
       "(1302, 12)"
      ]
     },
     "execution_count": 33,
     "metadata": {},
     "output_type": "execute_result"
    }
   ],
   "source": [
    "data.shape"
   ]
  },
  {
   "cell_type": "markdown",
   "metadata": {},
   "source": [
    "<br><br>\n",
    "### OS Colume"
   ]
  },
  {
   "cell_type": "markdown",
   "metadata": {},
   "source": [
    "Print OS"
   ]
  },
  {
   "cell_type": "code",
   "execution_count": 34,
   "metadata": {},
   "outputs": [
    {
     "data": {
      "text/plain": [
       "OS\n",
       "Windows 10      1072\n",
       "No OS             66\n",
       "Linux             62\n",
       "Windows 7         45\n",
       "Chrome OS         26\n",
       "macOS             13\n",
       "Mac OS X           8\n",
       "Windows 10 S       8\n",
       "Android            2\n",
       "Name: count, dtype: int64"
      ]
     },
     "execution_count": 34,
     "metadata": {},
     "output_type": "execute_result"
    }
   ],
   "source": [
    "data[\"OS\"].value_counts()"
   ]
  },
  {
   "cell_type": "markdown",
   "metadata": {},
   "source": [
    "<br><br>\n",
    "All OS count"
   ]
  },
  {
   "cell_type": "code",
   "execution_count": 35,
   "metadata": {},
   "outputs": [
    {
     "data": {
      "text/plain": [
       "9"
      ]
     },
     "execution_count": 35,
     "metadata": {},
     "output_type": "execute_result"
    }
   ],
   "source": [
    "len(data[\"OS\"].value_counts())"
   ]
  },
  {
   "cell_type": "markdown",
   "metadata": {},
   "source": [
    "<br><br>\n",
    "Create a function to replace OS types"
   ]
  },
  {
   "cell_type": "code",
   "execution_count": 36,
   "metadata": {},
   "outputs": [],
   "source": [
    "def separate_os_types(input):\n",
    "    \n",
    "    input_lower = input.lower()\n",
    "    \n",
    "    if \"windows\" in input_lower:\n",
    "        return \"Windows\"\n",
    "        \n",
    "    elif \"macos\" in input_lower or \"mac os\" in input_lower:\n",
    "        return \"MacOS\"\n",
    "        \n",
    "    elif \"linux\" in input_lower:\n",
    "        return \"Linux\"\n",
    "        \n",
    "    else:\n",
    "        return \"Other\"\n",
    "\n",
    "# Apply function to the dataset\n",
    "data[\"OS\"] = data[\"OS\"].apply(separate_os_types)"
   ]
  },
  {
   "cell_type": "markdown",
   "metadata": {},
   "source": [
    "<br><br>\n",
    "Print OS"
   ]
  },
  {
   "cell_type": "code",
   "execution_count": 37,
   "metadata": {},
   "outputs": [
    {
     "data": {
      "text/plain": [
       "OS\n",
       "Windows    1125\n",
       "Other        94\n",
       "Linux        62\n",
       "MacOS        21\n",
       "Name: count, dtype: int64"
      ]
     },
     "execution_count": 37,
     "metadata": {},
     "output_type": "execute_result"
    }
   ],
   "source": [
    "data[\"OS\"].value_counts()"
   ]
  },
  {
   "cell_type": "markdown",
   "metadata": {},
   "source": [
    "<br><br>\n",
    "All OS count"
   ]
  },
  {
   "cell_type": "code",
   "execution_count": 38,
   "metadata": {},
   "outputs": [
    {
     "data": {
      "text/plain": [
       "4"
      ]
     },
     "execution_count": 38,
     "metadata": {},
     "output_type": "execute_result"
    }
   ],
   "source": [
    "len(data[\"OS\"].value_counts())"
   ]
  },
  {
   "cell_type": "markdown",
   "metadata": {},
   "source": [
    "<br><br>\n",
    "### Screen Resolution Colume"
   ]
  },
  {
   "cell_type": "markdown",
   "metadata": {},
   "source": [
    "Print screen resolution"
   ]
  },
  {
   "cell_type": "code",
   "execution_count": 39,
   "metadata": {},
   "outputs": [
    {
     "data": {
      "text/plain": [
       "Screen_Resolution\n",
       "Full HD 1920x1080                                507\n",
       "1366x768                                         281\n",
       "IPS Panel Full HD 1920x1080                      230\n",
       "IPS Panel Full HD / Touchscreen 1920x1080         53\n",
       "Full HD / Touchscreen 1920x1080                   47\n",
       "1600x900                                          23\n",
       "Touchscreen 1366x768                              16\n",
       "Quad HD+ / Touchscreen 3200x1800                  15\n",
       "IPS Panel 4K Ultra HD 3840x2160                   12\n",
       "IPS Panel 4K Ultra HD / Touchscreen 3840x2160     11\n",
       "4K Ultra HD / Touchscreen 3840x2160               10\n",
       "4K Ultra HD 3840x2160                              7\n",
       "Touchscreen 2560x1440                              7\n",
       "IPS Panel 1366x768                                 7\n",
       "IPS Panel Retina Display 2304x1440                 6\n",
       "IPS Panel Quad HD+ / Touchscreen 3200x1800         6\n",
       "Touchscreen 2256x1504                              6\n",
       "IPS Panel Retina Display 2560x1600                 6\n",
       "IPS Panel Touchscreen 2560x1440                    5\n",
       "IPS Panel Retina Display 2880x1800                 4\n",
       "1440x900                                           4\n",
       "IPS Panel Touchscreen 1920x1200                    4\n",
       "IPS Panel 2560x1440                                4\n",
       "1920x1080                                          3\n",
       "Quad HD+ 3200x1800                                 3\n",
       "IPS Panel Touchscreen 1366x768                     3\n",
       "2560x1440                                          3\n",
       "IPS Panel Quad HD+ 2560x1440                       3\n",
       "Touchscreen 2400x1600                              3\n",
       "IPS Panel Full HD 2160x1440                        2\n",
       "IPS Panel Touchscreen / 4K Ultra HD 3840x2160      2\n",
       "IPS Panel Quad HD+ 3200x1800                       2\n",
       "Touchscreen / Quad HD+ 3200x1800                   1\n",
       "IPS Panel Full HD 1366x768                         1\n",
       "IPS Panel Retina Display 2736x1824                 1\n",
       "IPS Panel Full HD 2560x1440                        1\n",
       "IPS Panel Full HD 1920x1200                        1\n",
       "Touchscreen / Full HD 1920x1080                    1\n",
       "Touchscreen / 4K Ultra HD 3840x2160                1\n",
       "Name: count, dtype: int64"
      ]
     },
     "execution_count": 39,
     "metadata": {},
     "output_type": "execute_result"
    }
   ],
   "source": [
    "data[\"Screen_Resolution\"].value_counts()"
   ]
  },
  {
   "cell_type": "markdown",
   "metadata": {},
   "source": [
    "<br><br>\n",
    "All screen resolution count"
   ]
  },
  {
   "cell_type": "code",
   "execution_count": 40,
   "metadata": {},
   "outputs": [
    {
     "data": {
      "text/plain": [
       "39"
      ]
     },
     "execution_count": 40,
     "metadata": {},
     "output_type": "execute_result"
    }
   ],
   "source": [
    "len(data[\"Screen_Resolution\"].value_counts())"
   ]
  },
  {
   "cell_type": "markdown",
   "metadata": {},
   "source": [
    "<br><br>\n",
    "Add five new columns based on 'Screen_Resolution'"
   ]
  },
  {
   "cell_type": "code",
   "execution_count": 41,
   "metadata": {},
   "outputs": [],
   "source": [
    "data[\"Touchscreen\"] = data[\"Screen_Resolution\"].apply(\n",
    "    lambda x: 1 if \"touchscreen\" in x.lower() else 0\n",
    ")\n",
    "\n",
    "data[\"IPS\"] = data[\"Screen_Resolution\"].apply(\n",
    "    lambda x: 1 if \"ips\" in x.lower() else 0\n",
    ")\n",
    "\n",
    "data[\"HD\"] = data[\"Screen_Resolution\"].apply(\n",
    "    lambda x: 1 if \"hd\" in x.lower() or \"full hd\" in x.lower() or \"1920x1080\" in x.lower() or \"full hd 1920x1080\" in x.lower() or \"1080p\" in x.lower() or \"1366x768\" in x.lower() or \"1600x900\" in x.lower() or \"1920x1200\" in x.lower() else 0\n",
    ")\n",
    "\n",
    "data[\"2K\"] = data[\"Screen_Resolution\"].apply(\n",
    "    lambda x: 1 if \"2560x1440\" in x.lower() or \"2k\" in x.lower() or \"2304x1440\" in x.lower() or \"2256x1504\" in x.lower() or \"2560x1600\" in x.lower() or \"2880x1800\" in x.lower() or \"2400x1600\" in x.lower() or \"2736x1824\" in x.lower() else 0\n",
    ")\n",
    "\n",
    "data[\"4K\"] = data[\"Screen_Resolution\"].apply(\n",
    "    lambda x: 1 if \"3840x2160\" in x.lower() or \"4k\" in x.lower() or \"ultra hd\" in x.lower() or \"3200x1800\" in x.lower() or \"3840x2160\" in x.lower() else 0\n",
    ")"
   ]
  },
  {
   "cell_type": "markdown",
   "metadata": {},
   "source": [
    "<br><br>\n",
    "Print dataset details"
   ]
  },
  {
   "cell_type": "code",
   "execution_count": 42,
   "metadata": {},
   "outputs": [
    {
     "name": "stdout",
     "output_type": "stream",
     "text": [
      "<class 'pandas.core.frame.DataFrame'>\n",
      "Index: 1302 entries, 0 to 1302\n",
      "Data columns (total 17 columns):\n",
      " #   Column             Non-Null Count  Dtype  \n",
      "---  ------             --------------  -----  \n",
      " 0   Laptop_ID          1302 non-null   int64  \n",
      " 1   Company            1302 non-null   object \n",
      " 2   Product            1302 non-null   object \n",
      " 3   Type_Name          1302 non-null   object \n",
      " 4   Inches             1302 non-null   float64\n",
      " 5   Screen_Resolution  1302 non-null   object \n",
      " 6   CPU                1302 non-null   object \n",
      " 7   RAM                1302 non-null   int32  \n",
      " 8   GPU                1302 non-null   object \n",
      " 9   OS                 1302 non-null   object \n",
      " 10  Weight             1302 non-null   float32\n",
      " 11  Price_Euros        1302 non-null   float64\n",
      " 12  Touchscreen        1302 non-null   int64  \n",
      " 13  IPS                1302 non-null   int64  \n",
      " 14  HD                 1302 non-null   int64  \n",
      " 15  2K                 1302 non-null   int64  \n",
      " 16  4K                 1302 non-null   int64  \n",
      "dtypes: float32(1), float64(2), int32(1), int64(6), object(7)\n",
      "memory usage: 172.9+ KB\n"
     ]
    }
   ],
   "source": [
    "data.info()"
   ]
  },
  {
   "cell_type": "markdown",
   "metadata": {},
   "source": [
    "<br><br>\n",
    "### Remove unnecessary columns"
   ]
  },
  {
   "cell_type": "code",
   "execution_count": 43,
   "metadata": {},
   "outputs": [],
   "source": [
    "data = data.drop(columns = [\"Laptop_ID\", \"Product\", \"Inches\", \"Screen_Resolution\"])"
   ]
  },
  {
   "cell_type": "markdown",
   "metadata": {},
   "source": [
    "<br><br>\n",
    "Print the first five rows data"
   ]
  },
  {
   "cell_type": "code",
   "execution_count": 44,
   "metadata": {},
   "outputs": [
    {
     "data": {
      "text/html": [
       "<div>\n",
       "<style scoped>\n",
       "    .dataframe tbody tr th:only-of-type {\n",
       "        vertical-align: middle;\n",
       "    }\n",
       "\n",
       "    .dataframe tbody tr th {\n",
       "        vertical-align: top;\n",
       "    }\n",
       "\n",
       "    .dataframe thead th {\n",
       "        text-align: right;\n",
       "    }\n",
       "</style>\n",
       "<table border=\"1\" class=\"dataframe\">\n",
       "  <thead>\n",
       "    <tr style=\"text-align: right;\">\n",
       "      <th></th>\n",
       "      <th>Company</th>\n",
       "      <th>Type_Name</th>\n",
       "      <th>CPU</th>\n",
       "      <th>RAM</th>\n",
       "      <th>GPU</th>\n",
       "      <th>OS</th>\n",
       "      <th>Weight</th>\n",
       "      <th>Price_Euros</th>\n",
       "      <th>Touchscreen</th>\n",
       "      <th>IPS</th>\n",
       "      <th>HD</th>\n",
       "      <th>2K</th>\n",
       "      <th>4K</th>\n",
       "    </tr>\n",
       "  </thead>\n",
       "  <tbody>\n",
       "    <tr>\n",
       "      <th>0</th>\n",
       "      <td>Apple</td>\n",
       "      <td>Ultrabook</td>\n",
       "      <td>Intel Core i5</td>\n",
       "      <td>8</td>\n",
       "      <td>Intel</td>\n",
       "      <td>MacOS</td>\n",
       "      <td>1.37</td>\n",
       "      <td>1339.69</td>\n",
       "      <td>0</td>\n",
       "      <td>1</td>\n",
       "      <td>0</td>\n",
       "      <td>1</td>\n",
       "      <td>0</td>\n",
       "    </tr>\n",
       "    <tr>\n",
       "      <th>1</th>\n",
       "      <td>Apple</td>\n",
       "      <td>Ultrabook</td>\n",
       "      <td>Intel Core i5</td>\n",
       "      <td>8</td>\n",
       "      <td>Intel</td>\n",
       "      <td>MacOS</td>\n",
       "      <td>1.34</td>\n",
       "      <td>898.94</td>\n",
       "      <td>0</td>\n",
       "      <td>0</td>\n",
       "      <td>0</td>\n",
       "      <td>0</td>\n",
       "      <td>0</td>\n",
       "    </tr>\n",
       "    <tr>\n",
       "      <th>2</th>\n",
       "      <td>HP</td>\n",
       "      <td>Notebook</td>\n",
       "      <td>Intel Core i5</td>\n",
       "      <td>8</td>\n",
       "      <td>Intel</td>\n",
       "      <td>Other</td>\n",
       "      <td>1.86</td>\n",
       "      <td>575.00</td>\n",
       "      <td>0</td>\n",
       "      <td>0</td>\n",
       "      <td>1</td>\n",
       "      <td>0</td>\n",
       "      <td>0</td>\n",
       "    </tr>\n",
       "    <tr>\n",
       "      <th>3</th>\n",
       "      <td>Apple</td>\n",
       "      <td>Ultrabook</td>\n",
       "      <td>Intel Core i7</td>\n",
       "      <td>16</td>\n",
       "      <td>AMD</td>\n",
       "      <td>MacOS</td>\n",
       "      <td>1.83</td>\n",
       "      <td>2537.45</td>\n",
       "      <td>0</td>\n",
       "      <td>1</td>\n",
       "      <td>0</td>\n",
       "      <td>1</td>\n",
       "      <td>0</td>\n",
       "    </tr>\n",
       "    <tr>\n",
       "      <th>4</th>\n",
       "      <td>Apple</td>\n",
       "      <td>Ultrabook</td>\n",
       "      <td>Intel Core i5</td>\n",
       "      <td>8</td>\n",
       "      <td>Intel</td>\n",
       "      <td>MacOS</td>\n",
       "      <td>1.37</td>\n",
       "      <td>1803.60</td>\n",
       "      <td>0</td>\n",
       "      <td>1</td>\n",
       "      <td>0</td>\n",
       "      <td>1</td>\n",
       "      <td>0</td>\n",
       "    </tr>\n",
       "  </tbody>\n",
       "</table>\n",
       "</div>"
      ],
      "text/plain": [
       "  Company  Type_Name            CPU  RAM    GPU     OS  Weight  Price_Euros  \\\n",
       "0   Apple  Ultrabook  Intel Core i5    8  Intel  MacOS    1.37      1339.69   \n",
       "1   Apple  Ultrabook  Intel Core i5    8  Intel  MacOS    1.34       898.94   \n",
       "2      HP   Notebook  Intel Core i5    8  Intel  Other    1.86       575.00   \n",
       "3   Apple  Ultrabook  Intel Core i7   16    AMD  MacOS    1.83      2537.45   \n",
       "4   Apple  Ultrabook  Intel Core i5    8  Intel  MacOS    1.37      1803.60   \n",
       "\n",
       "   Touchscreen  IPS  HD  2K  4K  \n",
       "0            0    1   0   1   0  \n",
       "1            0    0   0   0   0  \n",
       "2            0    0   1   0   0  \n",
       "3            0    1   0   1   0  \n",
       "4            0    1   0   1   0  "
      ]
     },
     "execution_count": 44,
     "metadata": {},
     "output_type": "execute_result"
    }
   ],
   "source": [
    "data.head()"
   ]
  },
  {
   "cell_type": "code",
   "execution_count": 45,
   "metadata": {},
   "outputs": [
    {
     "name": "stdout",
     "output_type": "stream",
     "text": [
      "<class 'pandas.core.frame.DataFrame'>\n",
      "Index: 1302 entries, 0 to 1302\n",
      "Data columns (total 13 columns):\n",
      " #   Column       Non-Null Count  Dtype  \n",
      "---  ------       --------------  -----  \n",
      " 0   Company      1302 non-null   object \n",
      " 1   Type_Name    1302 non-null   object \n",
      " 2   CPU          1302 non-null   object \n",
      " 3   RAM          1302 non-null   int32  \n",
      " 4   GPU          1302 non-null   object \n",
      " 5   OS           1302 non-null   object \n",
      " 6   Weight       1302 non-null   float32\n",
      " 7   Price_Euros  1302 non-null   float64\n",
      " 8   Touchscreen  1302 non-null   int64  \n",
      " 9   IPS          1302 non-null   int64  \n",
      " 10  HD           1302 non-null   int64  \n",
      " 11  2K           1302 non-null   int64  \n",
      " 12  4K           1302 non-null   int64  \n",
      "dtypes: float32(1), float64(1), int32(1), int64(5), object(5)\n",
      "memory usage: 132.2+ KB\n"
     ]
    }
   ],
   "source": [
    "data.info()"
   ]
  },
  {
   "cell_type": "markdown",
   "metadata": {},
   "source": [
    "<br><br>\n",
    "### Replace 'object' types into numeric using One Hot Encoding"
   ]
  },
  {
   "cell_type": "code",
   "execution_count": 46,
   "metadata": {},
   "outputs": [],
   "source": [
    "# Get all object type colums\n",
    "object_data = data.select_dtypes(include=['object'])\n",
    "\n",
    "# One Hot Encode all object type data\n",
    "one_hot_encode_object_data = pd.get_dummies(object_data).astype(int)\n",
    "\n",
    "# Get all numerycle type data\n",
    "not_object_data = data.select_dtypes(exclude=['object'])\n",
    "\n",
    "# Create preproses data set\n",
    "preproses_data = pd.concat([not_object_data, one_hot_encode_object_data], axis=1)"
   ]
  },
  {
   "cell_type": "code",
   "execution_count": 47,
   "metadata": {},
   "outputs": [
    {
     "data": {
      "text/plain": [
       "(1302, 35)"
      ]
     },
     "execution_count": 47,
     "metadata": {},
     "output_type": "execute_result"
    }
   ],
   "source": [
    "preproses_data.shape"
   ]
  },
  {
   "cell_type": "code",
   "execution_count": 48,
   "metadata": {},
   "outputs": [
    {
     "name": "stdout",
     "output_type": "stream",
     "text": [
      "<class 'pandas.core.frame.DataFrame'>\n",
      "Index: 1302 entries, 0 to 1302\n",
      "Data columns (total 35 columns):\n",
      " #   Column                        Non-Null Count  Dtype  \n",
      "---  ------                        --------------  -----  \n",
      " 0   RAM                           1302 non-null   int32  \n",
      " 1   Weight                        1302 non-null   float32\n",
      " 2   Price_Euros                   1302 non-null   float64\n",
      " 3   Touchscreen                   1302 non-null   int64  \n",
      " 4   IPS                           1302 non-null   int64  \n",
      " 5   HD                            1302 non-null   int64  \n",
      " 6   2K                            1302 non-null   int64  \n",
      " 7   4K                            1302 non-null   int64  \n",
      " 8   Company_Acer                  1302 non-null   int64  \n",
      " 9   Company_Apple                 1302 non-null   int64  \n",
      " 10  Company_Asus                  1302 non-null   int64  \n",
      " 11  Company_Dell                  1302 non-null   int64  \n",
      " 12  Company_HP                    1302 non-null   int64  \n",
      " 13  Company_Lenovo                1302 non-null   int64  \n",
      " 14  Company_MSI                   1302 non-null   int64  \n",
      " 15  Company_Other                 1302 non-null   int64  \n",
      " 16  Company_Toshiba               1302 non-null   int64  \n",
      " 17  Type_Name_2 in 1 Convertible  1302 non-null   int64  \n",
      " 18  Type_Name_Gaming              1302 non-null   int64  \n",
      " 19  Type_Name_Netbook             1302 non-null   int64  \n",
      " 20  Type_Name_Notebook            1302 non-null   int64  \n",
      " 21  Type_Name_Ultrabook           1302 non-null   int64  \n",
      " 22  Type_Name_Workstation         1302 non-null   int64  \n",
      " 23  CPU_AMD                       1302 non-null   int64  \n",
      " 24  CPU_Intel Core i3             1302 non-null   int64  \n",
      " 25  CPU_Intel Core i5             1302 non-null   int64  \n",
      " 26  CPU_Intel Core i7             1302 non-null   int64  \n",
      " 27  CPU_Other                     1302 non-null   int64  \n",
      " 28  GPU_AMD                       1302 non-null   int64  \n",
      " 29  GPU_Intel                     1302 non-null   int64  \n",
      " 30  GPU_Nvidia                    1302 non-null   int64  \n",
      " 31  OS_Linux                      1302 non-null   int64  \n",
      " 32  OS_MacOS                      1302 non-null   int64  \n",
      " 33  OS_Other                      1302 non-null   int64  \n",
      " 34  OS_Windows                    1302 non-null   int64  \n",
      "dtypes: float32(1), float64(1), int32(1), int64(32)\n",
      "memory usage: 356.0 KB\n"
     ]
    }
   ],
   "source": [
    "preproses_data.info()"
   ]
  },
  {
   "cell_type": "markdown",
   "metadata": {},
   "source": [
    "<br><br>\n",
    "## Model Building and Selection"
   ]
  },
  {
   "cell_type": "markdown",
   "metadata": {},
   "source": [
    "### Define X and Y axis"
   ]
  },
  {
   "cell_type": "code",
   "execution_count": 49,
   "metadata": {},
   "outputs": [],
   "source": [
    "x = preproses_data.drop(\"Price_Euros\", axis=1)\n",
    "y = preproses_data[\"Price_Euros\"]"
   ]
  },
  {
   "cell_type": "markdown",
   "metadata": {},
   "source": [
    "<br><br>\n",
    "### Divide dataset into training and testing set"
   ]
  },
  {
   "cell_type": "code",
   "execution_count": 50,
   "metadata": {},
   "outputs": [],
   "source": [
    "from sklearn.model_selection import train_test_split\n",
    "\n",
    "# 75% traing and 25% testing \n",
    "X_train, X_test, Y_train, Y_test = train_test_split(x, y, test_size=0.25)"
   ]
  },
  {
   "cell_type": "code",
   "execution_count": 51,
   "metadata": {},
   "outputs": [
    {
     "data": {
      "text/plain": [
       "((976, 34), (326, 34), (976,), (326,))"
      ]
     },
     "execution_count": 51,
     "metadata": {},
     "output_type": "execute_result"
    }
   ],
   "source": [
    "X_train.shape, X_test.shape, Y_train.shape, Y_test.shape"
   ]
  },
  {
   "cell_type": "markdown",
   "metadata": {},
   "source": [
    "<br><br>\n",
    "### Model training"
   ]
  },
  {
   "cell_type": "markdown",
   "metadata": {},
   "source": [
    "Function for test model accuracy"
   ]
  },
  {
   "cell_type": "code",
   "execution_count": 52,
   "metadata": {},
   "outputs": [],
   "source": [
    "def model_accuracy_data(model):\n",
    "    model.fit(X_train, Y_train)\n",
    "    acc = model.score(X_test, Y_test)\n",
    "    print(str(model) + \" --> \" + str(acc))"
   ]
  },
  {
   "cell_type": "markdown",
   "metadata": {},
   "source": [
    "<br><br>\n",
    "#### Linear Regression Model"
   ]
  },
  {
   "cell_type": "code",
   "execution_count": 53,
   "metadata": {},
   "outputs": [],
   "source": [
    "from sklearn.linear_model import LinearRegression\n",
    "lr = LinearRegression()"
   ]
  },
  {
   "cell_type": "code",
   "execution_count": 54,
   "metadata": {},
   "outputs": [
    {
     "name": "stdout",
     "output_type": "stream",
     "text": [
      "LinearRegression() --> 0.743182621354681\n"
     ]
    }
   ],
   "source": [
    "model_accuracy_data(lr)"
   ]
  },
  {
   "cell_type": "markdown",
   "metadata": {},
   "source": [
    "<br><br>\n",
    "#### Lasso Regression Model"
   ]
  },
  {
   "cell_type": "code",
   "execution_count": 55,
   "metadata": {},
   "outputs": [],
   "source": [
    "from sklearn.linear_model import Lasso\n",
    "lasso = Lasso()"
   ]
  },
  {
   "cell_type": "code",
   "execution_count": 56,
   "metadata": {},
   "outputs": [
    {
     "name": "stdout",
     "output_type": "stream",
     "text": [
      "Lasso() --> 0.739986402032609\n"
     ]
    }
   ],
   "source": [
    "model_accuracy_data(lasso)"
   ]
  },
  {
   "cell_type": "markdown",
   "metadata": {},
   "source": [
    "<br><br>\n",
    "#### Decision Tree Regressor Model"
   ]
  },
  {
   "cell_type": "code",
   "execution_count": 57,
   "metadata": {},
   "outputs": [],
   "source": [
    "from sklearn.tree import DecisionTreeRegressor\n",
    "dt = DecisionTreeRegressor()"
   ]
  },
  {
   "cell_type": "code",
   "execution_count": 58,
   "metadata": {},
   "outputs": [
    {
     "name": "stdout",
     "output_type": "stream",
     "text": [
      "DecisionTreeRegressor() --> 0.6763880516992986\n"
     ]
    }
   ],
   "source": [
    "model_accuracy_data(dt)"
   ]
  },
  {
   "cell_type": "markdown",
   "metadata": {},
   "source": [
    "<br><br>\n",
    "#### Random Forest Regressor Model"
   ]
  },
  {
   "cell_type": "code",
   "execution_count": 59,
   "metadata": {},
   "outputs": [],
   "source": [
    "from sklearn.ensemble import RandomForestRegressor\n",
    "rf = RandomForestRegressor()"
   ]
  },
  {
   "cell_type": "code",
   "execution_count": 60,
   "metadata": {},
   "outputs": [
    {
     "name": "stdout",
     "output_type": "stream",
     "text": [
      "RandomForestRegressor() --> 0.7941170440767709\n"
     ]
    }
   ],
   "source": [
    "model_accuracy_data(rf)"
   ]
  },
  {
   "cell_type": "markdown",
   "metadata": {},
   "source": [
    "<br><br>\n",
    "### Hyperparameter tunning"
   ]
  },
  {
   "cell_type": "code",
   "execution_count": 61,
   "metadata": {},
   "outputs": [],
   "source": [
    "from sklearn.model_selection import GridSearchCV"
   ]
  },
  {
   "cell_type": "markdown",
   "metadata": {},
   "source": [
    "<br><br>\n",
    "Define the parameter grid for the random forest model\n",
    "* 'n_estimators': Number of trees in the forest\n",
    "* 'criterion': Function used to measure the quality of a split"
   ]
  },
  {
   "cell_type": "code",
   "execution_count": 62,
   "metadata": {},
   "outputs": [],
   "source": [
    "parameters = {'n_estimators':[10, 50, 100],\n",
    "              'criterion':['squared_error','absolute_error','poisson']}"
   ]
  },
  {
   "cell_type": "markdown",
   "metadata": {},
   "source": [
    "<br><br>\n",
    "Create a GridSearchCV object\n",
    "* It will search for the best combination of parameters from the `parameters` dictionary\n",
    "* `rf` is the random forest model that you're optimizing"
   ]
  },
  {
   "cell_type": "code",
   "execution_count": 63,
   "metadata": {},
   "outputs": [],
   "source": [
    "grid_obj = GridSearchCV(estimator=rf, param_grid=parameters)"
   ]
  },
  {
   "cell_type": "markdown",
   "metadata": {},
   "source": [
    "<br><br>\n",
    "Fit the grid search to the training data it will train the random forest model using all combinations of parameters and evaluate performance"
   ]
  },
  {
   "cell_type": "code",
   "execution_count": 64,
   "metadata": {},
   "outputs": [],
   "source": [
    "grid_fit = grid_obj.fit(X_train, Y_train)"
   ]
  },
  {
   "cell_type": "markdown",
   "metadata": {},
   "source": [
    "<br><br> \n",
    "Get the best model (with the optimal combination of parameters)"
   ]
  },
  {
   "cell_type": "code",
   "execution_count": 65,
   "metadata": {},
   "outputs": [
    {
     "data": {
      "text/html": [
       "<style>#sk-container-id-1 {\n",
       "  /* Definition of color scheme common for light and dark mode */\n",
       "  --sklearn-color-text: #000;\n",
       "  --sklearn-color-text-muted: #666;\n",
       "  --sklearn-color-line: gray;\n",
       "  /* Definition of color scheme for unfitted estimators */\n",
       "  --sklearn-color-unfitted-level-0: #fff5e6;\n",
       "  --sklearn-color-unfitted-level-1: #f6e4d2;\n",
       "  --sklearn-color-unfitted-level-2: #ffe0b3;\n",
       "  --sklearn-color-unfitted-level-3: chocolate;\n",
       "  /* Definition of color scheme for fitted estimators */\n",
       "  --sklearn-color-fitted-level-0: #f0f8ff;\n",
       "  --sklearn-color-fitted-level-1: #d4ebff;\n",
       "  --sklearn-color-fitted-level-2: #b3dbfd;\n",
       "  --sklearn-color-fitted-level-3: cornflowerblue;\n",
       "\n",
       "  /* Specific color for light theme */\n",
       "  --sklearn-color-text-on-default-background: var(--sg-text-color, var(--theme-code-foreground, var(--jp-content-font-color1, black)));\n",
       "  --sklearn-color-background: var(--sg-background-color, var(--theme-background, var(--jp-layout-color0, white)));\n",
       "  --sklearn-color-border-box: var(--sg-text-color, var(--theme-code-foreground, var(--jp-content-font-color1, black)));\n",
       "  --sklearn-color-icon: #696969;\n",
       "\n",
       "  @media (prefers-color-scheme: dark) {\n",
       "    /* Redefinition of color scheme for dark theme */\n",
       "    --sklearn-color-text-on-default-background: var(--sg-text-color, var(--theme-code-foreground, var(--jp-content-font-color1, white)));\n",
       "    --sklearn-color-background: var(--sg-background-color, var(--theme-background, var(--jp-layout-color0, #111)));\n",
       "    --sklearn-color-border-box: var(--sg-text-color, var(--theme-code-foreground, var(--jp-content-font-color1, white)));\n",
       "    --sklearn-color-icon: #878787;\n",
       "  }\n",
       "}\n",
       "\n",
       "#sk-container-id-1 {\n",
       "  color: var(--sklearn-color-text);\n",
       "}\n",
       "\n",
       "#sk-container-id-1 pre {\n",
       "  padding: 0;\n",
       "}\n",
       "\n",
       "#sk-container-id-1 input.sk-hidden--visually {\n",
       "  border: 0;\n",
       "  clip: rect(1px 1px 1px 1px);\n",
       "  clip: rect(1px, 1px, 1px, 1px);\n",
       "  height: 1px;\n",
       "  margin: -1px;\n",
       "  overflow: hidden;\n",
       "  padding: 0;\n",
       "  position: absolute;\n",
       "  width: 1px;\n",
       "}\n",
       "\n",
       "#sk-container-id-1 div.sk-dashed-wrapped {\n",
       "  border: 1px dashed var(--sklearn-color-line);\n",
       "  margin: 0 0.4em 0.5em 0.4em;\n",
       "  box-sizing: border-box;\n",
       "  padding-bottom: 0.4em;\n",
       "  background-color: var(--sklearn-color-background);\n",
       "}\n",
       "\n",
       "#sk-container-id-1 div.sk-container {\n",
       "  /* jupyter's `normalize.less` sets `[hidden] { display: none; }`\n",
       "     but bootstrap.min.css set `[hidden] { display: none !important; }`\n",
       "     so we also need the `!important` here to be able to override the\n",
       "     default hidden behavior on the sphinx rendered scikit-learn.org.\n",
       "     See: https://github.com/scikit-learn/scikit-learn/issues/21755 */\n",
       "  display: inline-block !important;\n",
       "  position: relative;\n",
       "}\n",
       "\n",
       "#sk-container-id-1 div.sk-text-repr-fallback {\n",
       "  display: none;\n",
       "}\n",
       "\n",
       "div.sk-parallel-item,\n",
       "div.sk-serial,\n",
       "div.sk-item {\n",
       "  /* draw centered vertical line to link estimators */\n",
       "  background-image: linear-gradient(var(--sklearn-color-text-on-default-background), var(--sklearn-color-text-on-default-background));\n",
       "  background-size: 2px 100%;\n",
       "  background-repeat: no-repeat;\n",
       "  background-position: center center;\n",
       "}\n",
       "\n",
       "/* Parallel-specific style estimator block */\n",
       "\n",
       "#sk-container-id-1 div.sk-parallel-item::after {\n",
       "  content: \"\";\n",
       "  width: 100%;\n",
       "  border-bottom: 2px solid var(--sklearn-color-text-on-default-background);\n",
       "  flex-grow: 1;\n",
       "}\n",
       "\n",
       "#sk-container-id-1 div.sk-parallel {\n",
       "  display: flex;\n",
       "  align-items: stretch;\n",
       "  justify-content: center;\n",
       "  background-color: var(--sklearn-color-background);\n",
       "  position: relative;\n",
       "}\n",
       "\n",
       "#sk-container-id-1 div.sk-parallel-item {\n",
       "  display: flex;\n",
       "  flex-direction: column;\n",
       "}\n",
       "\n",
       "#sk-container-id-1 div.sk-parallel-item:first-child::after {\n",
       "  align-self: flex-end;\n",
       "  width: 50%;\n",
       "}\n",
       "\n",
       "#sk-container-id-1 div.sk-parallel-item:last-child::after {\n",
       "  align-self: flex-start;\n",
       "  width: 50%;\n",
       "}\n",
       "\n",
       "#sk-container-id-1 div.sk-parallel-item:only-child::after {\n",
       "  width: 0;\n",
       "}\n",
       "\n",
       "/* Serial-specific style estimator block */\n",
       "\n",
       "#sk-container-id-1 div.sk-serial {\n",
       "  display: flex;\n",
       "  flex-direction: column;\n",
       "  align-items: center;\n",
       "  background-color: var(--sklearn-color-background);\n",
       "  padding-right: 1em;\n",
       "  padding-left: 1em;\n",
       "}\n",
       "\n",
       "\n",
       "/* Toggleable style: style used for estimator/Pipeline/ColumnTransformer box that is\n",
       "clickable and can be expanded/collapsed.\n",
       "- Pipeline and ColumnTransformer use this feature and define the default style\n",
       "- Estimators will overwrite some part of the style using the `sk-estimator` class\n",
       "*/\n",
       "\n",
       "/* Pipeline and ColumnTransformer style (default) */\n",
       "\n",
       "#sk-container-id-1 div.sk-toggleable {\n",
       "  /* Default theme specific background. It is overwritten whether we have a\n",
       "  specific estimator or a Pipeline/ColumnTransformer */\n",
       "  background-color: var(--sklearn-color-background);\n",
       "}\n",
       "\n",
       "/* Toggleable label */\n",
       "#sk-container-id-1 label.sk-toggleable__label {\n",
       "  cursor: pointer;\n",
       "  display: flex;\n",
       "  width: 100%;\n",
       "  margin-bottom: 0;\n",
       "  padding: 0.5em;\n",
       "  box-sizing: border-box;\n",
       "  text-align: center;\n",
       "  align-items: start;\n",
       "  justify-content: space-between;\n",
       "  gap: 0.5em;\n",
       "}\n",
       "\n",
       "#sk-container-id-1 label.sk-toggleable__label .caption {\n",
       "  font-size: 0.6rem;\n",
       "  font-weight: lighter;\n",
       "  color: var(--sklearn-color-text-muted);\n",
       "}\n",
       "\n",
       "#sk-container-id-1 label.sk-toggleable__label-arrow:before {\n",
       "  /* Arrow on the left of the label */\n",
       "  content: \"▸\";\n",
       "  float: left;\n",
       "  margin-right: 0.25em;\n",
       "  color: var(--sklearn-color-icon);\n",
       "}\n",
       "\n",
       "#sk-container-id-1 label.sk-toggleable__label-arrow:hover:before {\n",
       "  color: var(--sklearn-color-text);\n",
       "}\n",
       "\n",
       "/* Toggleable content - dropdown */\n",
       "\n",
       "#sk-container-id-1 div.sk-toggleable__content {\n",
       "  max-height: 0;\n",
       "  max-width: 0;\n",
       "  overflow: hidden;\n",
       "  text-align: left;\n",
       "  /* unfitted */\n",
       "  background-color: var(--sklearn-color-unfitted-level-0);\n",
       "}\n",
       "\n",
       "#sk-container-id-1 div.sk-toggleable__content.fitted {\n",
       "  /* fitted */\n",
       "  background-color: var(--sklearn-color-fitted-level-0);\n",
       "}\n",
       "\n",
       "#sk-container-id-1 div.sk-toggleable__content pre {\n",
       "  margin: 0.2em;\n",
       "  border-radius: 0.25em;\n",
       "  color: var(--sklearn-color-text);\n",
       "  /* unfitted */\n",
       "  background-color: var(--sklearn-color-unfitted-level-0);\n",
       "}\n",
       "\n",
       "#sk-container-id-1 div.sk-toggleable__content.fitted pre {\n",
       "  /* unfitted */\n",
       "  background-color: var(--sklearn-color-fitted-level-0);\n",
       "}\n",
       "\n",
       "#sk-container-id-1 input.sk-toggleable__control:checked~div.sk-toggleable__content {\n",
       "  /* Expand drop-down */\n",
       "  max-height: 200px;\n",
       "  max-width: 100%;\n",
       "  overflow: auto;\n",
       "}\n",
       "\n",
       "#sk-container-id-1 input.sk-toggleable__control:checked~label.sk-toggleable__label-arrow:before {\n",
       "  content: \"▾\";\n",
       "}\n",
       "\n",
       "/* Pipeline/ColumnTransformer-specific style */\n",
       "\n",
       "#sk-container-id-1 div.sk-label input.sk-toggleable__control:checked~label.sk-toggleable__label {\n",
       "  color: var(--sklearn-color-text);\n",
       "  background-color: var(--sklearn-color-unfitted-level-2);\n",
       "}\n",
       "\n",
       "#sk-container-id-1 div.sk-label.fitted input.sk-toggleable__control:checked~label.sk-toggleable__label {\n",
       "  background-color: var(--sklearn-color-fitted-level-2);\n",
       "}\n",
       "\n",
       "/* Estimator-specific style */\n",
       "\n",
       "/* Colorize estimator box */\n",
       "#sk-container-id-1 div.sk-estimator input.sk-toggleable__control:checked~label.sk-toggleable__label {\n",
       "  /* unfitted */\n",
       "  background-color: var(--sklearn-color-unfitted-level-2);\n",
       "}\n",
       "\n",
       "#sk-container-id-1 div.sk-estimator.fitted input.sk-toggleable__control:checked~label.sk-toggleable__label {\n",
       "  /* fitted */\n",
       "  background-color: var(--sklearn-color-fitted-level-2);\n",
       "}\n",
       "\n",
       "#sk-container-id-1 div.sk-label label.sk-toggleable__label,\n",
       "#sk-container-id-1 div.sk-label label {\n",
       "  /* The background is the default theme color */\n",
       "  color: var(--sklearn-color-text-on-default-background);\n",
       "}\n",
       "\n",
       "/* On hover, darken the color of the background */\n",
       "#sk-container-id-1 div.sk-label:hover label.sk-toggleable__label {\n",
       "  color: var(--sklearn-color-text);\n",
       "  background-color: var(--sklearn-color-unfitted-level-2);\n",
       "}\n",
       "\n",
       "/* Label box, darken color on hover, fitted */\n",
       "#sk-container-id-1 div.sk-label.fitted:hover label.sk-toggleable__label.fitted {\n",
       "  color: var(--sklearn-color-text);\n",
       "  background-color: var(--sklearn-color-fitted-level-2);\n",
       "}\n",
       "\n",
       "/* Estimator label */\n",
       "\n",
       "#sk-container-id-1 div.sk-label label {\n",
       "  font-family: monospace;\n",
       "  font-weight: bold;\n",
       "  display: inline-block;\n",
       "  line-height: 1.2em;\n",
       "}\n",
       "\n",
       "#sk-container-id-1 div.sk-label-container {\n",
       "  text-align: center;\n",
       "}\n",
       "\n",
       "/* Estimator-specific */\n",
       "#sk-container-id-1 div.sk-estimator {\n",
       "  font-family: monospace;\n",
       "  border: 1px dotted var(--sklearn-color-border-box);\n",
       "  border-radius: 0.25em;\n",
       "  box-sizing: border-box;\n",
       "  margin-bottom: 0.5em;\n",
       "  /* unfitted */\n",
       "  background-color: var(--sklearn-color-unfitted-level-0);\n",
       "}\n",
       "\n",
       "#sk-container-id-1 div.sk-estimator.fitted {\n",
       "  /* fitted */\n",
       "  background-color: var(--sklearn-color-fitted-level-0);\n",
       "}\n",
       "\n",
       "/* on hover */\n",
       "#sk-container-id-1 div.sk-estimator:hover {\n",
       "  /* unfitted */\n",
       "  background-color: var(--sklearn-color-unfitted-level-2);\n",
       "}\n",
       "\n",
       "#sk-container-id-1 div.sk-estimator.fitted:hover {\n",
       "  /* fitted */\n",
       "  background-color: var(--sklearn-color-fitted-level-2);\n",
       "}\n",
       "\n",
       "/* Specification for estimator info (e.g. \"i\" and \"?\") */\n",
       "\n",
       "/* Common style for \"i\" and \"?\" */\n",
       "\n",
       ".sk-estimator-doc-link,\n",
       "a:link.sk-estimator-doc-link,\n",
       "a:visited.sk-estimator-doc-link {\n",
       "  float: right;\n",
       "  font-size: smaller;\n",
       "  line-height: 1em;\n",
       "  font-family: monospace;\n",
       "  background-color: var(--sklearn-color-background);\n",
       "  border-radius: 1em;\n",
       "  height: 1em;\n",
       "  width: 1em;\n",
       "  text-decoration: none !important;\n",
       "  margin-left: 0.5em;\n",
       "  text-align: center;\n",
       "  /* unfitted */\n",
       "  border: var(--sklearn-color-unfitted-level-1) 1pt solid;\n",
       "  color: var(--sklearn-color-unfitted-level-1);\n",
       "}\n",
       "\n",
       ".sk-estimator-doc-link.fitted,\n",
       "a:link.sk-estimator-doc-link.fitted,\n",
       "a:visited.sk-estimator-doc-link.fitted {\n",
       "  /* fitted */\n",
       "  border: var(--sklearn-color-fitted-level-1) 1pt solid;\n",
       "  color: var(--sklearn-color-fitted-level-1);\n",
       "}\n",
       "\n",
       "/* On hover */\n",
       "div.sk-estimator:hover .sk-estimator-doc-link:hover,\n",
       ".sk-estimator-doc-link:hover,\n",
       "div.sk-label-container:hover .sk-estimator-doc-link:hover,\n",
       ".sk-estimator-doc-link:hover {\n",
       "  /* unfitted */\n",
       "  background-color: var(--sklearn-color-unfitted-level-3);\n",
       "  color: var(--sklearn-color-background);\n",
       "  text-decoration: none;\n",
       "}\n",
       "\n",
       "div.sk-estimator.fitted:hover .sk-estimator-doc-link.fitted:hover,\n",
       ".sk-estimator-doc-link.fitted:hover,\n",
       "div.sk-label-container:hover .sk-estimator-doc-link.fitted:hover,\n",
       ".sk-estimator-doc-link.fitted:hover {\n",
       "  /* fitted */\n",
       "  background-color: var(--sklearn-color-fitted-level-3);\n",
       "  color: var(--sklearn-color-background);\n",
       "  text-decoration: none;\n",
       "}\n",
       "\n",
       "/* Span, style for the box shown on hovering the info icon */\n",
       ".sk-estimator-doc-link span {\n",
       "  display: none;\n",
       "  z-index: 9999;\n",
       "  position: relative;\n",
       "  font-weight: normal;\n",
       "  right: .2ex;\n",
       "  padding: .5ex;\n",
       "  margin: .5ex;\n",
       "  width: min-content;\n",
       "  min-width: 20ex;\n",
       "  max-width: 50ex;\n",
       "  color: var(--sklearn-color-text);\n",
       "  box-shadow: 2pt 2pt 4pt #999;\n",
       "  /* unfitted */\n",
       "  background: var(--sklearn-color-unfitted-level-0);\n",
       "  border: .5pt solid var(--sklearn-color-unfitted-level-3);\n",
       "}\n",
       "\n",
       ".sk-estimator-doc-link.fitted span {\n",
       "  /* fitted */\n",
       "  background: var(--sklearn-color-fitted-level-0);\n",
       "  border: var(--sklearn-color-fitted-level-3);\n",
       "}\n",
       "\n",
       ".sk-estimator-doc-link:hover span {\n",
       "  display: block;\n",
       "}\n",
       "\n",
       "/* \"?\"-specific style due to the `<a>` HTML tag */\n",
       "\n",
       "#sk-container-id-1 a.estimator_doc_link {\n",
       "  float: right;\n",
       "  font-size: 1rem;\n",
       "  line-height: 1em;\n",
       "  font-family: monospace;\n",
       "  background-color: var(--sklearn-color-background);\n",
       "  border-radius: 1rem;\n",
       "  height: 1rem;\n",
       "  width: 1rem;\n",
       "  text-decoration: none;\n",
       "  /* unfitted */\n",
       "  color: var(--sklearn-color-unfitted-level-1);\n",
       "  border: var(--sklearn-color-unfitted-level-1) 1pt solid;\n",
       "}\n",
       "\n",
       "#sk-container-id-1 a.estimator_doc_link.fitted {\n",
       "  /* fitted */\n",
       "  border: var(--sklearn-color-fitted-level-1) 1pt solid;\n",
       "  color: var(--sklearn-color-fitted-level-1);\n",
       "}\n",
       "\n",
       "/* On hover */\n",
       "#sk-container-id-1 a.estimator_doc_link:hover {\n",
       "  /* unfitted */\n",
       "  background-color: var(--sklearn-color-unfitted-level-3);\n",
       "  color: var(--sklearn-color-background);\n",
       "  text-decoration: none;\n",
       "}\n",
       "\n",
       "#sk-container-id-1 a.estimator_doc_link.fitted:hover {\n",
       "  /* fitted */\n",
       "  background-color: var(--sklearn-color-fitted-level-3);\n",
       "}\n",
       "</style><div id=\"sk-container-id-1\" class=\"sk-top-container\"><div class=\"sk-text-repr-fallback\"><pre>RandomForestRegressor(criterion=&#x27;absolute_error&#x27;)</pre><b>In a Jupyter environment, please rerun this cell to show the HTML representation or trust the notebook. <br />On GitHub, the HTML representation is unable to render, please try loading this page with nbviewer.org.</b></div><div class=\"sk-container\" hidden><div class=\"sk-item\"><div class=\"sk-estimator fitted sk-toggleable\"><input class=\"sk-toggleable__control sk-hidden--visually\" id=\"sk-estimator-id-1\" type=\"checkbox\" checked><label for=\"sk-estimator-id-1\" class=\"sk-toggleable__label fitted sk-toggleable__label-arrow\"><div><div>RandomForestRegressor</div></div><div><a class=\"sk-estimator-doc-link fitted\" rel=\"noreferrer\" target=\"_blank\" href=\"https://scikit-learn.org/1.6/modules/generated/sklearn.ensemble.RandomForestRegressor.html\">?<span>Documentation for RandomForestRegressor</span></a><span class=\"sk-estimator-doc-link fitted\">i<span>Fitted</span></span></div></label><div class=\"sk-toggleable__content fitted\"><pre>RandomForestRegressor(criterion=&#x27;absolute_error&#x27;)</pre></div> </div></div></div></div>"
      ],
      "text/plain": [
       "RandomForestRegressor(criterion='absolute_error')"
      ]
     },
     "execution_count": 65,
     "metadata": {},
     "output_type": "execute_result"
    }
   ],
   "source": [
    "best_model = grid_fit.best_estimator_\n",
    "best_model"
   ]
  },
  {
   "cell_type": "code",
   "execution_count": 66,
   "metadata": {},
   "outputs": [
    {
     "data": {
      "text/plain": [
       "0.8001132452076753"
      ]
     },
     "execution_count": 66,
     "metadata": {},
     "output_type": "execute_result"
    }
   ],
   "source": [
    "best_model.score(X_test, Y_test)"
   ]
  },
  {
   "cell_type": "markdown",
   "metadata": {},
   "source": [
    "<br><br>\n",
    "## Save model"
   ]
  },
  {
   "cell_type": "code",
   "execution_count": 67,
   "metadata": {},
   "outputs": [],
   "source": [
    "import pickle\n",
    "\n",
    "# Save the best_model object to a file named 'predictor.pickle'\n",
    "with open('predictor.pickle', 'wb') as file:  # Open a file in write-binary mode ('wb')\n",
    "    pickle.dump(best_model, file)          # Serialize the model and write it to the file\n"
   ]
  },
  {
   "cell_type": "code",
   "execution_count": 68,
   "metadata": {},
   "outputs": [
    {
     "data": {
      "text/plain": [
       "34"
      ]
     },
     "execution_count": 68,
     "metadata": {},
     "output_type": "execute_result"
    }
   ],
   "source": [
    "len(X_train.columns)"
   ]
  },
  {
   "cell_type": "code",
   "execution_count": 69,
   "metadata": {},
   "outputs": [
    {
     "data": {
      "text/plain": [
       "Index(['RAM', 'Weight', 'Touchscreen', 'IPS', 'HD', '2K', '4K', 'Company_Acer',\n",
       "       'Company_Apple', 'Company_Asus', 'Company_Dell', 'Company_HP',\n",
       "       'Company_Lenovo', 'Company_MSI', 'Company_Other', 'Company_Toshiba',\n",
       "       'Type_Name_2 in 1 Convertible', 'Type_Name_Gaming', 'Type_Name_Netbook',\n",
       "       'Type_Name_Notebook', 'Type_Name_Ultrabook', 'Type_Name_Workstation',\n",
       "       'CPU_AMD', 'CPU_Intel Core i3', 'CPU_Intel Core i5',\n",
       "       'CPU_Intel Core i7', 'CPU_Other', 'GPU_AMD', 'GPU_Intel', 'GPU_Nvidia',\n",
       "       'OS_Linux', 'OS_MacOS', 'OS_Other', 'OS_Windows'],\n",
       "      dtype='object')"
      ]
     },
     "execution_count": 69,
     "metadata": {},
     "output_type": "execute_result"
    }
   ],
   "source": [
    "X_train.columns"
   ]
  },
  {
   "cell_type": "code",
   "execution_count": 70,
   "metadata": {},
   "outputs": [
    {
     "name": "stdout",
     "output_type": "stream",
     "text": [
      "[1446.57115]\n",
      "Euro: 1446.57\n",
      "LKR: 433971.34\n"
     ]
    }
   ],
   "source": [
    "# Assuming feature_names is the list of feature names used during training\n",
    "input_data = pd.DataFrame([[8, 1.3, 1, 1, 1, 0, 0, 0, 1, 0, 1, 0, 0, 0, 0, 0, 0, 0, 1, 0, 0, 1, 0, 0, 1, 0, 0, 0, 0, 1, 0, 1, 0, 0]],\n",
    "                          columns=X_train.columns)\n",
    "\n",
    "pred_value = best_model.predict(input_data)\n",
    "\n",
    "print(pred_value)\n",
    "\n",
    "print(\"Euro:\", round(pred_value[0], 2))\n",
    "\n",
    "print(\"LKR:\", round((pred_value[0] * 300), 2))"
   ]
  },
  {
   "cell_type": "markdown",
   "metadata": {},
   "source": [
    "<hr>"
   ]
  },
  {
   "cell_type": "markdown",
   "metadata": {},
   "source": [
    "<br><br>\n",
    "# Part D – Software Testing"
   ]
  },
  {
   "cell_type": "markdown",
   "metadata": {},
   "source": [
    "## 1. Evaluate Performance Metrics"
   ]
  },
  {
   "cell_type": "markdown",
   "metadata": {},
   "source": [
    "### a. Mean Absolute Error (MAE)"
   ]
  },
  {
   "cell_type": "markdown",
   "metadata": {},
   "source": [
    "* <b>What it is</b>: The average of the absolute differences between predicted and actual values.\n",
    "* <b>What it tells us</b>: Measures how much, on average, the model’s predictions deviate from the actual values.\n",
    "* <b>Smaller MAE = Better model</b>.\n",
    "\n",
    "Measures the average magnitude of errors between predictions and actual values."
   ]
  },
  {
   "cell_type": "code",
   "execution_count": 88,
   "metadata": {},
   "outputs": [
    {
     "name": "stdout",
     "output_type": "stream",
     "text": [
      "Mean Absolute Error: 202.7511099693252 (Expected: < 250)\n"
     ]
    }
   ],
   "source": [
    "from sklearn.metrics import mean_absolute_error\n",
    "\n",
    "Y_train = best_model.predict(X_test)\n",
    "mae = mean_absolute_error(Y_test, Y_train)\n",
    "print(\"Mean Absolute Error:\", mae, \"(Expected: < 250)\") "
   ]
  },
  {
   "cell_type": "markdown",
   "metadata": {},
   "source": [
    "<br><br>\n",
    "### b. Mean Squared Error (MSE)"
   ]
  },
  {
   "cell_type": "markdown",
   "metadata": {},
   "source": [
    "* <b>What it is</b>: The average of the squared differences between predicted and actual values.\n",
    "* <b>What it tells us</b>: Penalizes larger errors more than smaller ones due to squaring, highlighting significant prediction errors.\n",
    "* <b>Smaller MSE = Better model.</b>\n",
    "\n",
    "Measures the average squared difference between predictions and actual values. Smaller values indicate better performance."
   ]
  },
  {
   "cell_type": "code",
   "execution_count": 73,
   "metadata": {},
   "outputs": [
    {
     "name": "stdout",
     "output_type": "stream",
     "text": [
      "Mean Squared Error: 99270.1715718717\n"
     ]
    }
   ],
   "source": [
    "from sklearn.metrics import mean_squared_error\n",
    "\n",
    "mse = mean_squared_error(Y_test, Y_train)\n",
    "print(\"Mean Squared Error:\", mse)"
   ]
  },
  {
   "cell_type": "markdown",
   "metadata": {},
   "source": [
    "<br><br>\n",
    "### c. Root Mean Squared Error (RMSE)"
   ]
  },
  {
   "cell_type": "markdown",
   "metadata": {},
   "source": [
    "* <b>What it is</b>: The square root of MSE.\n",
    "* <b>What it tells us</b>: Gives an error value in the same units as the target variable, making it easier to interpret.\n",
    "* <b>Smaller RMSE = Better model.</b>\n",
    "\n",
    "Gives error in the same units as the target variable by taking the square root of MSE.|"
   ]
  },
  {
   "cell_type": "code",
   "execution_count": 75,
   "metadata": {},
   "outputs": [
    {
     "name": "stdout",
     "output_type": "stream",
     "text": [
      "Root Mean Squared Error: 315.07169274924036\n"
     ]
    }
   ],
   "source": [
    "rmse = mse ** 0.5\n",
    "print(\"Root Mean Squared Error:\", rmse)"
   ]
  },
  {
   "cell_type": "markdown",
   "metadata": {},
   "source": [
    "<br><br>\n",
    "### d. R² Score (Coefficient of Determination)"
   ]
  },
  {
   "cell_type": "markdown",
   "metadata": {},
   "source": [
    "* <b>What it is</b>: A metric that explains how much of the variance in the target variable is captured by the model.\n",
    "* <b>What it tells us</b>:\n",
    "    * 1.0: Perfect model.\n",
    "    * 0.8: Model explains 80% of the variance.\n",
    "    * 0 or Negative: Poor model (no better than random guessing).\n",
    "\n",
    "Indicates how well the model explains the variance in the target variable."
   ]
  },
  {
   "cell_type": "code",
   "execution_count": 87,
   "metadata": {},
   "outputs": [
    {
     "name": "stdout",
     "output_type": "stream",
     "text": [
      "R² Score: 0.8001132452076753 (Expected: > 0.8)\n"
     ]
    }
   ],
   "source": [
    "from sklearn.metrics import r2_score\n",
    "\n",
    "r2 = r2_score(Y_test, Y_train)\n",
    "print(\"R² Score:\", r2, \"(Expected: > 0.8)\")"
   ]
  },
  {
   "cell_type": "markdown",
   "metadata": {},
   "source": [
    "<br><br>\n",
    "## 2. Cross-Validation"
   ]
  },
  {
   "cell_type": "markdown",
   "metadata": {},
   "source": [
    "* <b>What it is</b>: A method to test the model by splitting data into multiple parts (folds) and training/testing on different combinations.\n",
    "* <b>What it tells us</b>: Ensures the model performs consistently across various subsets of data, reducing the chance of overfitting.\n",
    "\n",
    "Use k-fold cross-validation to validate the model on different subsets of data, ensuring robustness."
   ]
  },
  {
   "cell_type": "code",
   "execution_count": 77,
   "metadata": {},
   "outputs": [
    {
     "name": "stdout",
     "output_type": "stream",
     "text": [
      "Cross-Validation R² Scores: [0.79352142 0.80218975 0.80980344 0.77907472 0.73949908]\n",
      "Mean R² Score: 0.7848176826079329\n"
     ]
    }
   ],
   "source": [
    "from sklearn.model_selection import cross_val_score\n",
    "\n",
    "scores = cross_val_score(best_model, x, y, scoring='r2', cv=5)\n",
    "print(\"Cross-Validation R² Scores:\", scores)\n",
    "print(\"Mean R² Score:\", scores.mean())"
   ]
  },
  {
   "cell_type": "markdown",
   "metadata": {},
   "source": [
    "<br><br>\n",
    "## 3. Residual Analysis"
   ]
  },
  {
   "cell_type": "markdown",
   "metadata": {},
   "source": [
    "Examine the residuals (difference between actual and predicted values) to identify patterns or anomalies."
   ]
  },
  {
   "cell_type": "markdown",
   "metadata": {},
   "source": [
    "### a. Plot Residuals\n",
    "* <b>What it is</b>: A scatter plot showing the difference between actual and predicted values (residuals) against actual values.\n",
    "* <b>What it tells us</b>:\n",
    "    * If residuals are randomly scattered: Model is unbiased and performs well.\n",
    "    * Patterns in residuals: Model has issues (e.g., underfitting, overfitting, or bias)."
   ]
  },
  {
   "cell_type": "code",
   "execution_count": 81,
   "metadata": {},
   "outputs": [
    {
     "data": {
      "image/png": "[encoded data removed]",
      "text/plain": [
       "<Figure size 640x480 with 1 Axes>"
      ]
     },
     "metadata": {},
     "output_type": "display_data"
    }
   ],
   "source": [
    "import matplotlib.pyplot as plt\n",
    "\n",
    "residuals = Y_test - Y_train\n",
    "plt.scatter(Y_test, residuals)\n",
    "plt.axhline(0, color='red', linestyle='--')\n",
    "plt.xlabel(\"Actual Values\")\n",
    "plt.ylabel(\"Residuals\")\n",
    "plt.title(\"Residual Plot\")\n",
    "plt.show()"
   ]
  },
  {
   "cell_type": "markdown",
   "metadata": {},
   "source": [
    "<br><br>\n",
    "### b. Distribution of Residuals"
   ]
  },
  {
   "cell_type": "markdown",
   "metadata": {},
   "source": [
    "* <b>What it is</b>: A histogram or density plot showing how residuals are distributed.\n",
    "* <b>What it tells us</b>:\n",
    "    * If residuals follow a normal (bell-curve) distribution: Model errors are well-behaved.\n",
    "    * Skewed or uneven distribution: Indicates potential model issues.\n",
    "\n",
    "Check if residuals are normally distributed."
   ]
  },
  {
   "cell_type": "code",
   "execution_count": 84,
   "metadata": {},
   "outputs": [
    {
     "data": {
      "image/png": "[encoded data removed]",
      "text/plain": [
       "<Figure size 640x480 with 1 Axes>"
      ]
     },
     "metadata": {},
     "output_type": "display_data"
    }
   ],
   "source": [
    "import seaborn as sns\n",
    "\n",
    "sns.histplot(residuals, kde=True)\n",
    "plt.title(\"Distribution of Residuals\")\n",
    "plt.show()"
   ]
  },
  {
   "cell_type": "markdown",
   "metadata": {},
   "source": [
    "<br><br>\n",
    "## 4. Explainability and Feature Importance"
   ]
  },
  {
   "cell_type": "markdown",
   "metadata": {},
   "source": [
    "Understand the model's decision-making by examining feature importance."
   ]
  },
  {
   "cell_type": "code",
   "execution_count": 85,
   "metadata": {},
   "outputs": [
    {
     "name": "stdout",
     "output_type": "stream",
     "text": [
      "                         Feature  Importance\n",
      "0                            RAM    0.379845\n",
      "1                         Weight    0.223006\n",
      "19            Type_Name_Notebook    0.041981\n",
      "24             CPU_Intel Core i5    0.028713\n",
      "21         Type_Name_Workstation    0.026923\n",
      "25             CPU_Intel Core i7    0.026830\n",
      "3                            IPS    0.025494\n",
      "26                     CPU_Other    0.023364\n",
      "12                Company_Lenovo    0.017045\n",
      "6                             4K    0.016043\n",
      "11                    Company_HP    0.015948\n",
      "33                    OS_Windows    0.015548\n",
      "10                  Company_Dell    0.014753\n",
      "9                   Company_Asus    0.014383\n",
      "4                             HD    0.012138\n",
      "14                 Company_Other    0.011858\n",
      "2                    Touchscreen    0.011558\n",
      "28                     GPU_Intel    0.009702\n",
      "29                    GPU_Nvidia    0.009402\n",
      "27                       GPU_AMD    0.008590\n",
      "23             CPU_Intel Core i3    0.008274\n",
      "20           Type_Name_Ultrabook    0.008029\n",
      "17              Type_Name_Gaming    0.007873\n",
      "5                             2K    0.006836\n",
      "16  Type_Name_2 in 1 Convertible    0.006231\n",
      "32                      OS_Other    0.005876\n",
      "7                   Company_Acer    0.005706\n",
      "13                   Company_MSI    0.004560\n",
      "15               Company_Toshiba    0.004060\n",
      "22                       CPU_AMD    0.003729\n",
      "18             Type_Name_Netbook    0.002794\n",
      "30                      OS_Linux    0.002459\n",
      "31                      OS_MacOS    0.000258\n",
      "8                  Company_Apple    0.000190\n"
     ]
    }
   ],
   "source": [
    "import pandas as pd\n",
    "\n",
    "feature_importances = best_model.feature_importances_\n",
    "features_df = pd.DataFrame({'Feature': X_train.columns, 'Importance': feature_importances})\n",
    "features_df = features_df.sort_values(by='Importance', ascending=False)\n",
    "print(features_df)"
   ]
  },
  {
   "cell_type": "markdown",
   "metadata": {},
   "source": [
    "<br><br>\n",
    "## 1. Describe the Appropriate Testing Methods\n",
    "### Testing Methods Used\n",
    "1. Performance Metrics:\n",
    "    * Mean Absolute Error (MAE): Measures the average error magnitude in predictions.\n",
    "    * Mean Squared Error (MSE): Penalizes larger errors due to squaring, reflecting model precision.\n",
    "    * Root Mean Squared Error (RMSE): Square root of MSE, representing errors in the same unit as the target variable.\n",
    "    * R² Score (Coefficient of Determination): Indicates how well the model explains the variance in the target variable.\n",
    "\n",
    "2. Cross-Validation:\n",
    "    * 5-fold cross-validation ensures the model is robust and performs consistently across different data splits.\n",
    "    * Provides a more comprehensive evaluation by averaging performance across multiple test subsets.\n",
    "\n",
    "3. Residual Analysis:\n",
    "    * Residuals (differences between actual and predicted values) are analyzed to check for bias or patterns.\n",
    "    * Scatter plots of residuals against actual values should ideally show no discernible patterns."
   ]
  },
  {
   "cell_type": "markdown",
   "metadata": {},
   "source": [
    "<br><br>\n",
    "## 2. Compare Expected/Correct Results with Produced Results\n",
    "<b>Observed Results</b>\n",
    "| Metric                          | Observed Value                            |\n",
    "|:--------------------------------|:------------------------------------------|\n",
    "| Mean Absolute Error (MAE)       | 202.7511                                  |\n",
    "| Mean Squared Error (MSE)        | 99,270.1716                               |\n",
    "| Root Mean Squared Error (RMSE)  | 315.0717                                  |\n",
    "| R² Score                        | 0.8001                                    |\n",
    "| Cross-Validation R² Scores      | [0.7935, 0.8022, 0.8098, 0.7791, 0.7395]  |\n",
    "| Mean Cross-Validation R² Scor   | 0.7848                                    |\n",
    "\n",
    "<b>Expected Results</b>\n",
    "1. MAE: Below 250 is considered acceptable, as it indicates reasonable pricing error.\n",
    "2. R² Score: Above 0.8 is ideal for this problem.\n",
    "3. Residuals: Random distribution without patterns.\n",
    "4. Cross-Validation R² Scores: Consistent across folds with a mean close to 0.8.\n",
    "\n",
    "<b>Comparison and Analysis</b>\n",
    "1. MAE and RMSE:\n",
    "    * Observed MAE (202.75) is within the acceptable range of error.\n",
    "    * RMSE (315.07) confirms that larger errors are rare but possible.\n",
    "\n",
    "2. R² Score:\n",
    "    * Observed R² (0.8001) meets expectations, explaining 80% of the variance in laptop prices.\n",
    "    * Cross-validation scores are consistent, with a mean R² of 0.7848, indicating stable model performance.\n",
    "\n",
    "3. Residual Analysis:\n",
    "    * Residuals should be plotted to verify they are randomly distributed without systematic patterns (e.g., bias)."
   ]
  },
  {
   "cell_type": "markdown",
   "metadata": {},
   "source": [
    "<hr>"
   ]
  },
  {
   "cell_type": "markdown",
   "metadata": {},
   "source": [
    "<br><br>\n",
    "# Part E – Evaluate results"
   ]
  },
  {
   "cell_type": "markdown",
   "metadata": {},
   "source": [
    "## 1. Discuss he Accuracy of Results with Reference to Evaluation Metrics"
   ]
  },
  {
   "cell_type": "markdown",
   "metadata": {},
   "source": [
    "### Observed Metrics and Accuracy\n",
    "\n",
    "* Mean Absolute Error (MAE): 202.75\n",
    "    * Indicates the model's predictions are, on average, within $202.75 of actual laptop prices.\n",
    "    * This is acceptable for predicting prices in a broad range but may not capture highly precise predictions for low-cost laptops.\n",
    "\n",
    "* Root Mean Squared Error (RMSE): 315.07\n",
    "    * RMSE reflects the presence of some larger errors in predictions. Larger errors are penalized more due to squaring, but overall, the error is moderate.\n",
    "\n",
    "* R² Score: 0.8001 (80%)\n",
    "    * The model explains 80% of the variance in laptop prices, which is a strong indication of its effectiveness. However, 20% of the variability is not captured, potentially due to missing or unmodeled factors.\n",
    "\n",
    "* Cross-Validation Mean R² Score: 0.7848\n",
    "    * The model consistently performs well across different data splits, confirming its robustness and reliability."
   ]
  },
  {
   "cell_type": "markdown",
   "metadata": {},
   "source": [
    "<br><br>\n",
    "## 2. Interpretation of Results in the Context of the Domain"
   ]
  },
  {
   "cell_type": "markdown",
   "metadata": {},
   "source": [
    "### Effectiveness in Predicting Laptop Prices\n",
    "\n",
    "* Strengths:\n",
    "    * The model accurately predicts laptop prices within a reasonable error margin for most cases.\n",
    "    * High R² score indicates that key features in the dataset (e.g., specifications, brand) effectively drive the predictions.\n",
    "\n",
    "* Limitations:\n",
    "    * The MAE and RMSE show that while the model is generally accurate, its predictions may deviate significantly for certain outliers (e.g., premium or unusual laptops).\n",
    "    * Residual analysis may reveal biases if specific features (e.g., rare brands or configurations) are underrepresented in the dataset.\n",
    "\n",
    "### Domain-Specific Interpretation\n",
    "\n",
    "* Practical Implications:\n",
    "    * The model is well-suited for applications like price prediction for e-commerce platforms, assisting sellers in pricing products or buyers in comparing prices.\n",
    "    * A limitation is that the model may not be ideal for high-stakes scenarios requiring ultra-precise pricing predictions.\n",
    "\n",
    "* Potential Improvements:\n",
    "    * Incorporate more features (e.g., market trends, customer reviews) to capture unmodeled variance.\n",
    "    * Fine-tune hyperparameters or explore alternative models like Gradient Boosting or Neural Networks for better accuracy."
   ]
  },
  {
   "cell_type": "markdown",
   "metadata": {},
   "source": [
    "<br><br>\n",
    "## 3. Strengths and Limitations of Implementation"
   ]
  },
  {
   "cell_type": "markdown",
   "metadata": {},
   "source": [
    "### Strengths\n",
    "\n",
    "1. High Accuracy:\n",
    "    * With an R² score of 0.8001, the model performs well in explaining laptop price variability.\n",
    "      \n",
    "2. Robustness:\n",
    "    * Cross-validation results show consistent performance across multiple data splits, demonstrating reliability.\n",
    "      \n",
    "3. Interpretability:\n",
    "    * The Random Forest algorithm allows feature importance analysis, helping understand which factors influence prices most.\n",
    "\n",
    "### Limitations\n",
    "\n",
    "1. Error Margin:\n",
    "    * MAE of 202.75 may be too high for low-cost laptops (e.g., under $500), leading to proportionally larger errors in such cases.\n",
    "\n",
    "2. Outlier Sensitivity:\n",
    "    * RMSE indicates that larger prediction errors exist, likely due to outliers like premium laptops or atypical configurations.\n",
    "\n",
    "3. Dataset Dependency:\n",
    "    * The model's performance depends on the quality and variety of the dataset. Limited or biased data may result in overfitting or poor generalization."
   ]
  },
  {
   "cell_type": "markdown",
   "metadata": {},
   "source": [
    "<br><br>\n",
    "## Summary"
   ]
  },
  {
   "cell_type": "markdown",
   "metadata": {},
   "source": [
    "* The model effectively predicts laptop prices with reasonable accuracy and consistency.\n",
    "* While it has strengths in robustness and domain suitability, limitations like residual error and dataset dependency suggest room for improvement.\n",
    "* To further enhance performance, additional features and advanced models could be explored, making it even more applicable to e-commerce and pricing domains."
   ]
  }
 ],
 "metadata": {
  "colab": {
   "authorship_tag": "ABX9TyPuf+mDTAZjCWvqT+uKpSol",
   "provenance": []
  },
  "kernelspec": {
   "display_name": "Python 3 (ipykernel)",
   "language": "python",
   "name": "python3"
  },
  "language_info": {
   "codemirror_mode": {
    "name": "ipython",
    "version": 3
   },
   "file_extension": ".py",
   "mimetype": "text/x-python",
   "name": "python",
   "nbconvert_exporter": "python",
   "pygments_lexer": "ipython3",
   "version": "3.12.1"
  }
 },
 "nbformat": 4,
 "nbformat_minor": 4
}
